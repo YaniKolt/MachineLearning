{
 "cells": [
  {
   "cell_type": "code",
   "execution_count": 2,
   "id": "2bac766c",
   "metadata": {},
   "outputs": [],
   "source": [
    "import numpy as np              # Массивы (матрицы, векторы, линейная алгебра)\n",
    "import matplotlib.pyplot as plt # Научная графика\n",
    "%matplotlib inline \n",
    "    # Говорим jupyter'у, чтобы весь графический вывод был в браузере, а не в отдельном окне\n",
    "import pandas as pd             # Таблицы и временные ряды (dataframe, series)\n",
    "import seaborn as sns           # Еще больше красивой графики для визуализации данных\n",
    "import sklearn                  # Алгоритмы машинного обучения"
   ]
  },
  {
   "cell_type": "markdown",
   "id": "6113802a",
   "metadata": {},
   "source": [
    "# 0. ОПИСАНИЕ ЗАДАЧИ #\n",
    "Этот набор данных включает описания гипотетических образцов, соответствующих 23 видам жаберных грибов семейства Agaricus и Лепиота, взятых из Полевого руководства Общества Одюбона по североамериканским грибам (1981). Каждый вид идентифицируется как определенно съедобный, определенно ядовитый или неизвестной съедобности и не рекомендуется. Последний класс был объединен с ядовитым.\n",
    "\n",
    "**Всего описано 8124 объекта, содержащих 23 признака:**\n",
    "\n",
    "1. Принадлежность классу (classes: (съедобные)edible=e, (ядовитые)poisonous=p)\n",
    "\n",
    "2. Форма шляпки (cap-shape: bell=b,conical=c,convex=x,flat=f, knobbed=k,sunken=s)\n",
    "3. Текстура шляпки (cap-surface: fibrous=f,grooves=g,scaly=y,smooth=s)\n",
    "4. Цвет шляпки (cap-color: brown=n,buff=b,cinnamon=c,gray=g,green=r,pink=p,purple=u,red=e,white=w,yellow=y)\n",
    "5. Повреждения (bruises: bruises=t,no=f)\n",
    "6. Запах (odor: almond=a,anise=l,creosote=c,fishy=y,foul=f,musty=m,none=n,pungent=p,spicy=s)\n",
    "\n",
    "**Гимений или гименальная пластина у грибов, это, простыми словами, внутренняя поверхность шляпки гриба*\n",
    "\n",
    "7. Крепление гимения (gill-attachment: attached=a,descending=d,free=f,notched=n)\n",
    "8. Расстояние между спорами гимения (gill-spacing: close=c,crowded=w,distant=d)\n",
    "9. Размер гимения (gill-size: broad=b,narrow=n)\n",
    "10. Цвет гимения (gill-color: black=k,brown=n,buff=b,chocolate=h,gray=g, green=r,orange=o,pink=p,purple=u,red=e,white=w,yellow=y)\n",
    "11. Форма ножки (stalk-shape: enlarging=e,tapering=t)\n",
    "12. Корень ножик (stalk-root: bulbous=b,club=c,cup=u,equal=e,rhizomorphs=z,rooted=r,missing=?)\n",
    "\n",
    "**Остаток велума или кольцо, это, простыми словами, небольшое обрамление на ножке гриба*\n",
    "**Велум - оболочка, защищающая в молодом возрасте плодовое тело гриба*\n",
    "\n",
    "13. Поверхность ножки над кольцом (stalk-surface-above-ring: fibrous=f,scaly=y,silky=k,smooth=s)\n",
    "14. Поверхность ножки под кольцом (stalk-surface-below-ring: fibrous=f,scaly=y,silky=k,smooth=s)\n",
    "15. Цвет ножки над кольцом (stalk-color-above-ring: brown=n,buff=b,cinnamon=c,gray=g,orange=o,pink=p,red=e,white=w,yellow=y)\n",
    "16. Цвет ножки под кольцом (stalk-color-below-ring: brown=n,buff=b,cinnamon=c,gray=g,orange=o,pink=p,red=e,white=w,yellow=y)\n",
    "17. Тип велума: (veil-type: partial=p,universal=u)\n",
    "18. Цвет велума: (veil-color: brown=n,orange=o,white=w,yellow=y)\n",
    "19. Число колец (ring-number: none=n,one=o,two=t)\n",
    "20. Тип кольца (ring-type: cobwebby=c,evanescent=e,flaring=f,large=l,none=n,pendant=p,sheathing=s,zone=z)\n",
    "21. Цвет спор (spore-print-color: black=k,brown=n,buff=b,chocolate=h,green=r,orange=o,purple=u,white=w,yellow=y)\n",
    "22. Популяция (population: abundant=a,clustered=c,numerous=n,scattered=s,several=v,solitary=y)\n",
    "23. Среда обитания (habitat: grasses=g,leaves=l,meadows=m,paths=p,urban=u,waste=w,woods=d)\n",
    "\n",
    "# 1.  Загружаем данные #"
   ]
  },
  {
   "cell_type": "code",
   "execution_count": 26,
   "id": "92167faa",
   "metadata": {},
   "outputs": [],
   "source": [
    "url = \"https://raw.githubusercontent.com/YaniKolt/MachineLearning/main/mushrooms.csv\"\n",
    "data = pd.read_csv(url)"
   ]
  },
  {
   "cell_type": "markdown",
   "id": "263e8a3f",
   "metadata": {},
   "source": [
    "Посмотрим на наши данные:"
   ]
  },
  {
   "cell_type": "code",
   "execution_count": 27,
   "id": "c6e0ec4e",
   "metadata": {},
   "outputs": [
    {
     "data": {
      "text/html": [
       "<div>\n",
       "<style scoped>\n",
       "    .dataframe tbody tr th:only-of-type {\n",
       "        vertical-align: middle;\n",
       "    }\n",
       "\n",
       "    .dataframe tbody tr th {\n",
       "        vertical-align: top;\n",
       "    }\n",
       "\n",
       "    .dataframe thead th {\n",
       "        text-align: right;\n",
       "    }\n",
       "</style>\n",
       "<table border=\"1\" class=\"dataframe\">\n",
       "  <thead>\n",
       "    <tr style=\"text-align: right;\">\n",
       "      <th></th>\n",
       "      <th>class</th>\n",
       "      <th>cap-shape</th>\n",
       "      <th>cap-surface</th>\n",
       "      <th>cap-color</th>\n",
       "      <th>bruises</th>\n",
       "      <th>odor</th>\n",
       "      <th>gill-attachment</th>\n",
       "      <th>gill-spacing</th>\n",
       "      <th>gill-size</th>\n",
       "      <th>gill-color</th>\n",
       "      <th>...</th>\n",
       "      <th>stalk-surface-below-ring</th>\n",
       "      <th>stalk-color-above-ring</th>\n",
       "      <th>stalk-color-below-ring</th>\n",
       "      <th>veil-type</th>\n",
       "      <th>veil-color</th>\n",
       "      <th>ring-number</th>\n",
       "      <th>ring-type</th>\n",
       "      <th>spore-print-color</th>\n",
       "      <th>population</th>\n",
       "      <th>habitat</th>\n",
       "    </tr>\n",
       "  </thead>\n",
       "  <tbody>\n",
       "    <tr>\n",
       "      <th>0</th>\n",
       "      <td>p</td>\n",
       "      <td>x</td>\n",
       "      <td>s</td>\n",
       "      <td>n</td>\n",
       "      <td>t</td>\n",
       "      <td>p</td>\n",
       "      <td>f</td>\n",
       "      <td>c</td>\n",
       "      <td>n</td>\n",
       "      <td>k</td>\n",
       "      <td>...</td>\n",
       "      <td>s</td>\n",
       "      <td>w</td>\n",
       "      <td>w</td>\n",
       "      <td>p</td>\n",
       "      <td>w</td>\n",
       "      <td>o</td>\n",
       "      <td>p</td>\n",
       "      <td>k</td>\n",
       "      <td>s</td>\n",
       "      <td>u</td>\n",
       "    </tr>\n",
       "    <tr>\n",
       "      <th>1</th>\n",
       "      <td>e</td>\n",
       "      <td>x</td>\n",
       "      <td>s</td>\n",
       "      <td>y</td>\n",
       "      <td>t</td>\n",
       "      <td>a</td>\n",
       "      <td>f</td>\n",
       "      <td>c</td>\n",
       "      <td>b</td>\n",
       "      <td>k</td>\n",
       "      <td>...</td>\n",
       "      <td>s</td>\n",
       "      <td>w</td>\n",
       "      <td>w</td>\n",
       "      <td>p</td>\n",
       "      <td>w</td>\n",
       "      <td>o</td>\n",
       "      <td>p</td>\n",
       "      <td>n</td>\n",
       "      <td>n</td>\n",
       "      <td>g</td>\n",
       "    </tr>\n",
       "    <tr>\n",
       "      <th>2</th>\n",
       "      <td>e</td>\n",
       "      <td>b</td>\n",
       "      <td>s</td>\n",
       "      <td>w</td>\n",
       "      <td>t</td>\n",
       "      <td>l</td>\n",
       "      <td>f</td>\n",
       "      <td>c</td>\n",
       "      <td>b</td>\n",
       "      <td>n</td>\n",
       "      <td>...</td>\n",
       "      <td>s</td>\n",
       "      <td>w</td>\n",
       "      <td>w</td>\n",
       "      <td>p</td>\n",
       "      <td>w</td>\n",
       "      <td>o</td>\n",
       "      <td>p</td>\n",
       "      <td>n</td>\n",
       "      <td>n</td>\n",
       "      <td>m</td>\n",
       "    </tr>\n",
       "    <tr>\n",
       "      <th>3</th>\n",
       "      <td>p</td>\n",
       "      <td>x</td>\n",
       "      <td>y</td>\n",
       "      <td>w</td>\n",
       "      <td>t</td>\n",
       "      <td>p</td>\n",
       "      <td>f</td>\n",
       "      <td>c</td>\n",
       "      <td>n</td>\n",
       "      <td>n</td>\n",
       "      <td>...</td>\n",
       "      <td>s</td>\n",
       "      <td>w</td>\n",
       "      <td>w</td>\n",
       "      <td>p</td>\n",
       "      <td>w</td>\n",
       "      <td>o</td>\n",
       "      <td>p</td>\n",
       "      <td>k</td>\n",
       "      <td>s</td>\n",
       "      <td>u</td>\n",
       "    </tr>\n",
       "    <tr>\n",
       "      <th>4</th>\n",
       "      <td>e</td>\n",
       "      <td>x</td>\n",
       "      <td>s</td>\n",
       "      <td>g</td>\n",
       "      <td>f</td>\n",
       "      <td>n</td>\n",
       "      <td>f</td>\n",
       "      <td>w</td>\n",
       "      <td>b</td>\n",
       "      <td>k</td>\n",
       "      <td>...</td>\n",
       "      <td>s</td>\n",
       "      <td>w</td>\n",
       "      <td>w</td>\n",
       "      <td>p</td>\n",
       "      <td>w</td>\n",
       "      <td>o</td>\n",
       "      <td>e</td>\n",
       "      <td>n</td>\n",
       "      <td>a</td>\n",
       "      <td>g</td>\n",
       "    </tr>\n",
       "    <tr>\n",
       "      <th>...</th>\n",
       "      <td>...</td>\n",
       "      <td>...</td>\n",
       "      <td>...</td>\n",
       "      <td>...</td>\n",
       "      <td>...</td>\n",
       "      <td>...</td>\n",
       "      <td>...</td>\n",
       "      <td>...</td>\n",
       "      <td>...</td>\n",
       "      <td>...</td>\n",
       "      <td>...</td>\n",
       "      <td>...</td>\n",
       "      <td>...</td>\n",
       "      <td>...</td>\n",
       "      <td>...</td>\n",
       "      <td>...</td>\n",
       "      <td>...</td>\n",
       "      <td>...</td>\n",
       "      <td>...</td>\n",
       "      <td>...</td>\n",
       "      <td>...</td>\n",
       "    </tr>\n",
       "    <tr>\n",
       "      <th>8119</th>\n",
       "      <td>e</td>\n",
       "      <td>k</td>\n",
       "      <td>s</td>\n",
       "      <td>n</td>\n",
       "      <td>f</td>\n",
       "      <td>n</td>\n",
       "      <td>a</td>\n",
       "      <td>c</td>\n",
       "      <td>b</td>\n",
       "      <td>y</td>\n",
       "      <td>...</td>\n",
       "      <td>s</td>\n",
       "      <td>o</td>\n",
       "      <td>o</td>\n",
       "      <td>p</td>\n",
       "      <td>o</td>\n",
       "      <td>o</td>\n",
       "      <td>p</td>\n",
       "      <td>b</td>\n",
       "      <td>c</td>\n",
       "      <td>l</td>\n",
       "    </tr>\n",
       "    <tr>\n",
       "      <th>8120</th>\n",
       "      <td>e</td>\n",
       "      <td>x</td>\n",
       "      <td>s</td>\n",
       "      <td>n</td>\n",
       "      <td>f</td>\n",
       "      <td>n</td>\n",
       "      <td>a</td>\n",
       "      <td>c</td>\n",
       "      <td>b</td>\n",
       "      <td>y</td>\n",
       "      <td>...</td>\n",
       "      <td>s</td>\n",
       "      <td>o</td>\n",
       "      <td>o</td>\n",
       "      <td>p</td>\n",
       "      <td>n</td>\n",
       "      <td>o</td>\n",
       "      <td>p</td>\n",
       "      <td>b</td>\n",
       "      <td>v</td>\n",
       "      <td>l</td>\n",
       "    </tr>\n",
       "    <tr>\n",
       "      <th>8121</th>\n",
       "      <td>e</td>\n",
       "      <td>f</td>\n",
       "      <td>s</td>\n",
       "      <td>n</td>\n",
       "      <td>f</td>\n",
       "      <td>n</td>\n",
       "      <td>a</td>\n",
       "      <td>c</td>\n",
       "      <td>b</td>\n",
       "      <td>n</td>\n",
       "      <td>...</td>\n",
       "      <td>s</td>\n",
       "      <td>o</td>\n",
       "      <td>o</td>\n",
       "      <td>p</td>\n",
       "      <td>o</td>\n",
       "      <td>o</td>\n",
       "      <td>p</td>\n",
       "      <td>b</td>\n",
       "      <td>c</td>\n",
       "      <td>l</td>\n",
       "    </tr>\n",
       "    <tr>\n",
       "      <th>8122</th>\n",
       "      <td>p</td>\n",
       "      <td>k</td>\n",
       "      <td>y</td>\n",
       "      <td>n</td>\n",
       "      <td>f</td>\n",
       "      <td>y</td>\n",
       "      <td>f</td>\n",
       "      <td>c</td>\n",
       "      <td>n</td>\n",
       "      <td>b</td>\n",
       "      <td>...</td>\n",
       "      <td>k</td>\n",
       "      <td>w</td>\n",
       "      <td>w</td>\n",
       "      <td>p</td>\n",
       "      <td>w</td>\n",
       "      <td>o</td>\n",
       "      <td>e</td>\n",
       "      <td>w</td>\n",
       "      <td>v</td>\n",
       "      <td>l</td>\n",
       "    </tr>\n",
       "    <tr>\n",
       "      <th>8123</th>\n",
       "      <td>e</td>\n",
       "      <td>x</td>\n",
       "      <td>s</td>\n",
       "      <td>n</td>\n",
       "      <td>f</td>\n",
       "      <td>n</td>\n",
       "      <td>a</td>\n",
       "      <td>c</td>\n",
       "      <td>b</td>\n",
       "      <td>y</td>\n",
       "      <td>...</td>\n",
       "      <td>s</td>\n",
       "      <td>o</td>\n",
       "      <td>o</td>\n",
       "      <td>p</td>\n",
       "      <td>o</td>\n",
       "      <td>o</td>\n",
       "      <td>p</td>\n",
       "      <td>o</td>\n",
       "      <td>c</td>\n",
       "      <td>l</td>\n",
       "    </tr>\n",
       "  </tbody>\n",
       "</table>\n",
       "<p>8124 rows × 23 columns</p>\n",
       "</div>"
      ],
      "text/plain": [
       "     class cap-shape cap-surface cap-color bruises odor gill-attachment  \\\n",
       "0        p         x           s         n       t    p               f   \n",
       "1        e         x           s         y       t    a               f   \n",
       "2        e         b           s         w       t    l               f   \n",
       "3        p         x           y         w       t    p               f   \n",
       "4        e         x           s         g       f    n               f   \n",
       "...    ...       ...         ...       ...     ...  ...             ...   \n",
       "8119     e         k           s         n       f    n               a   \n",
       "8120     e         x           s         n       f    n               a   \n",
       "8121     e         f           s         n       f    n               a   \n",
       "8122     p         k           y         n       f    y               f   \n",
       "8123     e         x           s         n       f    n               a   \n",
       "\n",
       "     gill-spacing gill-size gill-color  ... stalk-surface-below-ring  \\\n",
       "0               c         n          k  ...                        s   \n",
       "1               c         b          k  ...                        s   \n",
       "2               c         b          n  ...                        s   \n",
       "3               c         n          n  ...                        s   \n",
       "4               w         b          k  ...                        s   \n",
       "...           ...       ...        ...  ...                      ...   \n",
       "8119            c         b          y  ...                        s   \n",
       "8120            c         b          y  ...                        s   \n",
       "8121            c         b          n  ...                        s   \n",
       "8122            c         n          b  ...                        k   \n",
       "8123            c         b          y  ...                        s   \n",
       "\n",
       "     stalk-color-above-ring stalk-color-below-ring veil-type veil-color  \\\n",
       "0                         w                      w         p          w   \n",
       "1                         w                      w         p          w   \n",
       "2                         w                      w         p          w   \n",
       "3                         w                      w         p          w   \n",
       "4                         w                      w         p          w   \n",
       "...                     ...                    ...       ...        ...   \n",
       "8119                      o                      o         p          o   \n",
       "8120                      o                      o         p          n   \n",
       "8121                      o                      o         p          o   \n",
       "8122                      w                      w         p          w   \n",
       "8123                      o                      o         p          o   \n",
       "\n",
       "     ring-number ring-type spore-print-color population habitat  \n",
       "0              o         p                 k          s       u  \n",
       "1              o         p                 n          n       g  \n",
       "2              o         p                 n          n       m  \n",
       "3              o         p                 k          s       u  \n",
       "4              o         e                 n          a       g  \n",
       "...          ...       ...               ...        ...     ...  \n",
       "8119           o         p                 b          c       l  \n",
       "8120           o         p                 b          v       l  \n",
       "8121           o         p                 b          c       l  \n",
       "8122           o         e                 w          v       l  \n",
       "8123           o         p                 o          c       l  \n",
       "\n",
       "[8124 rows x 23 columns]"
      ]
     },
     "execution_count": 27,
     "metadata": {},
     "output_type": "execute_result"
    }
   ],
   "source": [
    "data"
   ]
  },
  {
   "cell_type": "markdown",
   "id": "8986a146",
   "metadata": {},
   "source": [
    "# 2. Визуализация данных и вычисление основных характеристик #\n",
    "\n",
    "Узнаем, какое соотношение в данном наборе съедобных и несъедобных грибов:\n",
    "\n",
    "*Напомню, что e - съедобные, p - ядовитые и неизвестные*"
   ]
  },
  {
   "cell_type": "code",
   "execution_count": 28,
   "id": "54ae4b40",
   "metadata": {},
   "outputs": [
    {
     "data": {
      "image/png": "[encoded data removed]",
      "text/plain": [
       "<Figure size 432x288 with 1 Axes>"
      ]
     },
     "metadata": {
      "needs_background": "light"
     },
     "output_type": "display_data"
    }
   ],
   "source": [
    "sns.countplot(x='class', data=data)\n",
    "pass"
   ]
  },
  {
   "cell_type": "markdown",
   "id": "2593910d",
   "metadata": {},
   "source": [
    "Заметим, что соотношение грибов по классом примерно равное, но съедобных в выборке больше.\n",
    "\n",
    "Получим сводную информацию о признаках:\n",
    "\n",
    "*Обратите внимание, что в данном наборе все признаки категориальные!*"
   ]
  },
  {
   "cell_type": "code",
   "execution_count": 29,
   "id": "843c9fd3",
   "metadata": {},
   "outputs": [
    {
     "data": {
      "text/html": [
       "<div>\n",
       "<style scoped>\n",
       "    .dataframe tbody tr th:only-of-type {\n",
       "        vertical-align: middle;\n",
       "    }\n",
       "\n",
       "    .dataframe tbody tr th {\n",
       "        vertical-align: top;\n",
       "    }\n",
       "\n",
       "    .dataframe thead th {\n",
       "        text-align: right;\n",
       "    }\n",
       "</style>\n",
       "<table border=\"1\" class=\"dataframe\">\n",
       "  <thead>\n",
       "    <tr style=\"text-align: right;\">\n",
       "      <th></th>\n",
       "      <th>class</th>\n",
       "      <th>cap-shape</th>\n",
       "      <th>cap-surface</th>\n",
       "      <th>cap-color</th>\n",
       "      <th>bruises</th>\n",
       "      <th>odor</th>\n",
       "      <th>gill-attachment</th>\n",
       "      <th>gill-spacing</th>\n",
       "      <th>gill-size</th>\n",
       "      <th>gill-color</th>\n",
       "      <th>...</th>\n",
       "      <th>stalk-surface-below-ring</th>\n",
       "      <th>stalk-color-above-ring</th>\n",
       "      <th>stalk-color-below-ring</th>\n",
       "      <th>veil-type</th>\n",
       "      <th>veil-color</th>\n",
       "      <th>ring-number</th>\n",
       "      <th>ring-type</th>\n",
       "      <th>spore-print-color</th>\n",
       "      <th>population</th>\n",
       "      <th>habitat</th>\n",
       "    </tr>\n",
       "  </thead>\n",
       "  <tbody>\n",
       "    <tr>\n",
       "      <th>count</th>\n",
       "      <td>8124</td>\n",
       "      <td>8124</td>\n",
       "      <td>8124</td>\n",
       "      <td>8124</td>\n",
       "      <td>8124</td>\n",
       "      <td>8124</td>\n",
       "      <td>8124</td>\n",
       "      <td>8124</td>\n",
       "      <td>8124</td>\n",
       "      <td>8124</td>\n",
       "      <td>...</td>\n",
       "      <td>8124</td>\n",
       "      <td>8124</td>\n",
       "      <td>8124</td>\n",
       "      <td>8124</td>\n",
       "      <td>8124</td>\n",
       "      <td>8124</td>\n",
       "      <td>8124</td>\n",
       "      <td>8124</td>\n",
       "      <td>8124</td>\n",
       "      <td>8124</td>\n",
       "    </tr>\n",
       "    <tr>\n",
       "      <th>unique</th>\n",
       "      <td>2</td>\n",
       "      <td>6</td>\n",
       "      <td>4</td>\n",
       "      <td>10</td>\n",
       "      <td>2</td>\n",
       "      <td>9</td>\n",
       "      <td>2</td>\n",
       "      <td>2</td>\n",
       "      <td>2</td>\n",
       "      <td>12</td>\n",
       "      <td>...</td>\n",
       "      <td>4</td>\n",
       "      <td>9</td>\n",
       "      <td>9</td>\n",
       "      <td>1</td>\n",
       "      <td>4</td>\n",
       "      <td>3</td>\n",
       "      <td>5</td>\n",
       "      <td>9</td>\n",
       "      <td>6</td>\n",
       "      <td>7</td>\n",
       "    </tr>\n",
       "    <tr>\n",
       "      <th>top</th>\n",
       "      <td>e</td>\n",
       "      <td>x</td>\n",
       "      <td>y</td>\n",
       "      <td>n</td>\n",
       "      <td>f</td>\n",
       "      <td>n</td>\n",
       "      <td>f</td>\n",
       "      <td>c</td>\n",
       "      <td>b</td>\n",
       "      <td>b</td>\n",
       "      <td>...</td>\n",
       "      <td>s</td>\n",
       "      <td>w</td>\n",
       "      <td>w</td>\n",
       "      <td>p</td>\n",
       "      <td>w</td>\n",
       "      <td>o</td>\n",
       "      <td>p</td>\n",
       "      <td>w</td>\n",
       "      <td>v</td>\n",
       "      <td>d</td>\n",
       "    </tr>\n",
       "    <tr>\n",
       "      <th>freq</th>\n",
       "      <td>4208</td>\n",
       "      <td>3656</td>\n",
       "      <td>3244</td>\n",
       "      <td>2284</td>\n",
       "      <td>4748</td>\n",
       "      <td>3528</td>\n",
       "      <td>7914</td>\n",
       "      <td>6812</td>\n",
       "      <td>5612</td>\n",
       "      <td>1728</td>\n",
       "      <td>...</td>\n",
       "      <td>4936</td>\n",
       "      <td>4464</td>\n",
       "      <td>4384</td>\n",
       "      <td>8124</td>\n",
       "      <td>7924</td>\n",
       "      <td>7488</td>\n",
       "      <td>3968</td>\n",
       "      <td>2388</td>\n",
       "      <td>4040</td>\n",
       "      <td>3148</td>\n",
       "    </tr>\n",
       "  </tbody>\n",
       "</table>\n",
       "<p>4 rows × 23 columns</p>\n",
       "</div>"
      ],
      "text/plain": [
       "       class cap-shape cap-surface cap-color bruises  odor gill-attachment  \\\n",
       "count   8124      8124        8124      8124    8124  8124            8124   \n",
       "unique     2         6           4        10       2     9               2   \n",
       "top        e         x           y         n       f     n               f   \n",
       "freq    4208      3656        3244      2284    4748  3528            7914   \n",
       "\n",
       "       gill-spacing gill-size gill-color  ... stalk-surface-below-ring  \\\n",
       "count          8124      8124       8124  ...                     8124   \n",
       "unique            2         2         12  ...                        4   \n",
       "top               c         b          b  ...                        s   \n",
       "freq           6812      5612       1728  ...                     4936   \n",
       "\n",
       "       stalk-color-above-ring stalk-color-below-ring veil-type veil-color  \\\n",
       "count                    8124                   8124      8124       8124   \n",
       "unique                      9                      9         1          4   \n",
       "top                         w                      w         p          w   \n",
       "freq                     4464                   4384      8124       7924   \n",
       "\n",
       "       ring-number ring-type spore-print-color population habitat  \n",
       "count         8124      8124              8124       8124    8124  \n",
       "unique           3         5                 9          6       7  \n",
       "top              o         p                 w          v       d  \n",
       "freq          7488      3968              2388       4040    3148  \n",
       "\n",
       "[4 rows x 23 columns]"
      ]
     },
     "execution_count": 29,
     "metadata": {},
     "output_type": "execute_result"
    }
   ],
   "source": [
    "data.describe()"
   ]
  },
  {
   "cell_type": "markdown",
   "id": "9fd57d44",
   "metadata": {},
   "source": [
    "Поскольку у нас есть только категориальные признаки, здесь не будет кучи красивых картинок и графиков, которые показывают различные зависимости и просто позволяют посмотреть на красивое. Но все равно попробуем что-нибудь еще визуализировать, чтобы было не так грустно и пусто! \n",
    "\n",
    "Например, посмотрим, как распределяется цвет шляпки у грибов. \n",
    "\n",
    "** коричневый (brown=n),темно-коричневый (buff=b), цвет корицы (cinnamon=c), серый (gray=g), зеленый (green=r), розовый (pink=p), фиолетовый (purple=u), красный (red=e), белый (white=w), желтый (yellow=y)*"
   ]
  },
  {
   "cell_type": "code",
   "execution_count": 30,
   "id": "5d751e8e",
   "metadata": {},
   "outputs": [
    {
     "data": {
      "image/png": "[encoded data removed]",
      "text/plain": [
       "<Figure size 432x288 with 1 Axes>"
      ]
     },
     "metadata": {
      "needs_background": "light"
     },
     "output_type": "display_data"
    }
   ],
   "source": [
    "sns.countplot(x = 'cap-color', data=data)\n",
    "pass\n"
   ]
  },
  {
   "cell_type": "code",
   "execution_count": 31,
   "id": "46f8d547",
   "metadata": {},
   "outputs": [
    {
     "data": {
      "image/png": "[encoded data removed]",
      "text/plain": [
       "<Figure size 432x288 with 1 Axes>"
      ]
     },
     "metadata": {
      "needs_background": "light"
     },
     "output_type": "display_data"
    }
   ],
   "source": [
    "sns.countplot(x = 'cap-color', hue = 'class', data=data)\n",
    "pass"
   ]
  },
  {
   "cell_type": "markdown",
   "id": "729d6f22",
   "metadata": {},
   "source": [
    "Ага, не просто так всегда обходила стороной красные грибы!\n",
    "Но заметим, что сильного перевеса в сторону съедобности несъедобности нет, т.е. только по цвету мы не можем сказать, что гриб ядовитый/несъедобный.\n",
    "\n",
    "Да, среди желтых, красных, фиолетовых и темно-коричневых больше тех, которые можно съесть только один раз в жизни, но немало и тех, которыми можно будет полакомиться еще.\n",
    "\n",
    "Посмотрим, что можно еще сравнить. Как насчет запаха?\n",
    "\n",
    "** Миндаль (almond=a), анис (anise=l), креозот(деготь/железная дорога, на ваш вкус) (creosote=c), рыба (fishy=y), отвратительный (foul=f), тухлый (musty=m), без запаха (none=n), острый (pungent=p), пряный (spicy=s)*"
   ]
  },
  {
   "cell_type": "code",
   "execution_count": 32,
   "id": "4329dd01",
   "metadata": {},
   "outputs": [
    {
     "data": {
      "image/png": "[encoded data removed]",
      "text/plain": [
       "<Figure size 432x288 with 1 Axes>"
      ]
     },
     "metadata": {
      "needs_background": "light"
     },
     "output_type": "display_data"
    }
   ],
   "source": [
    "sns.countplot(x = 'odor', data=data)\n",
    "pass"
   ]
  },
  {
   "cell_type": "code",
   "execution_count": 33,
   "id": "1cb5b8fb",
   "metadata": {},
   "outputs": [
    {
     "data": {
      "image/png": "[encoded data removed]",
      "text/plain": [
       "<Figure size 432x288 with 1 Axes>"
      ]
     },
     "metadata": {
      "needs_background": "light"
     },
     "output_type": "display_data"
    }
   ],
   "source": [
    "sns.countplot(x = 'odor', hue = 'class', data=data)\n",
    "pass"
   ]
  },
  {
   "cell_type": "markdown",
   "id": "877da514",
   "metadata": {},
   "source": [
    "Уже интереснее! Даже очень! Получается, что только по запаху можно определить съедобен гриб или нет? Например, вы спокойно можете класть в корзинку гриб, если чувствуете запах аниса или миндаля. Другие запахи свидетельствуют о том, что такой гриб пробовать не стоит. А что если у гриба нет запаха? Ведь таких, как мы видим, практически половина от общего числа. А что если у вас все еще не вернулись запахи после популярнейшей сейчас напасти? На эти и другие вопросы мы постараемся ответить позже, с помощью более умных алгоритмов, чем просто просмотр графика. Поэтому перейдем к следующему этапу.\n",
    "\n",
    "# 3. Обработка пропущенных значений #\n",
    "\n",
    "Судя по сводной табличке в самом начале, можно заметить, что пропущенных значений нет. Но убедимся в этом еще раз:"
   ]
  },
  {
   "cell_type": "code",
   "execution_count": 34,
   "id": "08d2a2bc",
   "metadata": {},
   "outputs": [
    {
     "data": {
      "text/plain": [
       "class                       0\n",
       "cap-shape                   0\n",
       "cap-surface                 0\n",
       "cap-color                   0\n",
       "bruises                     0\n",
       "odor                        0\n",
       "gill-attachment             0\n",
       "gill-spacing                0\n",
       "gill-size                   0\n",
       "gill-color                  0\n",
       "stalk-shape                 0\n",
       "stalk-root                  0\n",
       "stalk-surface-above-ring    0\n",
       "stalk-surface-below-ring    0\n",
       "stalk-color-above-ring      0\n",
       "stalk-color-below-ring      0\n",
       "veil-type                   0\n",
       "veil-color                  0\n",
       "ring-number                 0\n",
       "ring-type                   0\n",
       "spore-print-color           0\n",
       "population                  0\n",
       "habitat                     0\n",
       "dtype: int64"
      ]
     },
     "execution_count": 34,
     "metadata": {},
     "output_type": "execute_result"
    }
   ],
   "source": [
    "data.isna().sum()"
   ]
  },
  {
   "cell_type": "markdown",
   "id": "b28d2724",
   "metadata": {},
   "source": [
    "Красота да и только, спокойно можно пропустить этот этап.\n",
    "\n",
    "# 4. Обработка категориальных признаков #\n",
    "\n",
    "А таких у нас много..."
   ]
  },
  {
   "cell_type": "code",
   "execution_count": 37,
   "id": "38840551",
   "metadata": {},
   "outputs": [
    {
     "name": "stdout",
     "output_type": "stream",
     "text": [
      "['class', 'cap-shape', 'cap-surface', 'cap-color', 'bruises', 'odor', 'gill-attachment', 'gill-spacing', 'gill-size', 'gill-color', 'stalk-shape', 'stalk-root', 'stalk-surface-above-ring', 'stalk-surface-below-ring', 'stalk-color-above-ring', 'stalk-color-below-ring', 'veil-type', 'veil-color', 'ring-number', 'ring-type', 'spore-print-color', 'population', 'habitat']\n",
      "[]\n"
     ]
    }
   ],
   "source": [
    "categorical_columns = [c for c in data.columns if data[c].dtype.name == 'object']\n",
    "print(categorical_columns)\n",
    "\n",
    "numerical_columns   = [c for c in data.columns if data[c].dtype.name != 'object']\n",
    "print(numerical_columns)"
   ]
  },
  {
   "cell_type": "markdown",
   "id": "dfc9cc7c",
   "metadata": {},
   "source": [
    "Еще раз убедились, что у нас нет количественных признаков, только категориальные. Займемся ими"
   ]
  },
  {
   "cell_type": "code",
   "execution_count": 38,
   "id": "c88dde3b",
   "metadata": {},
   "outputs": [
    {
     "name": "stdout",
     "output_type": "stream",
     "text": [
      "class ['p' 'e']\n",
      "cap-shape ['x' 'b' 's' 'f' 'k' 'c']\n",
      "cap-surface ['s' 'y' 'f' 'g']\n",
      "cap-color ['n' 'y' 'w' 'g' 'e' 'p' 'b' 'u' 'c' 'r']\n",
      "bruises ['t' 'f']\n",
      "odor ['p' 'a' 'l' 'n' 'f' 'c' 'y' 's' 'm']\n",
      "gill-attachment ['f' 'a']\n",
      "gill-spacing ['c' 'w']\n",
      "gill-size ['n' 'b']\n",
      "gill-color ['k' 'n' 'g' 'p' 'w' 'h' 'u' 'e' 'b' 'r' 'y' 'o']\n",
      "stalk-shape ['e' 't']\n",
      "stalk-root ['e' 'c' 'b' 'r' '?']\n",
      "stalk-surface-above-ring ['s' 'f' 'k' 'y']\n",
      "stalk-surface-below-ring ['s' 'f' 'y' 'k']\n",
      "stalk-color-above-ring ['w' 'g' 'p' 'n' 'b' 'e' 'o' 'c' 'y']\n",
      "stalk-color-below-ring ['w' 'p' 'g' 'b' 'n' 'e' 'y' 'o' 'c']\n",
      "veil-type ['p']\n",
      "veil-color ['w' 'n' 'o' 'y']\n",
      "ring-number ['o' 't' 'n']\n",
      "ring-type ['p' 'e' 'l' 'f' 'n']\n",
      "spore-print-color ['k' 'n' 'u' 'h' 'w' 'r' 'o' 'y' 'b']\n",
      "population ['s' 'n' 'a' 'v' 'y' 'c']\n",
      "habitat ['u' 'g' 'm' 'd' 'p' 'w' 'l']\n"
     ]
    }
   ],
   "source": [
    "for c in categorical_columns:\n",
    "    print(c, data[c].unique())"
   ]
  },
  {
   "cell_type": "code",
   "execution_count": 41,
   "id": "6d1f45d8",
   "metadata": {},
   "outputs": [
    {
     "data": {
      "text/html": [
       "<div>\n",
       "<style scoped>\n",
       "    .dataframe tbody tr th:only-of-type {\n",
       "        vertical-align: middle;\n",
       "    }\n",
       "\n",
       "    .dataframe tbody tr th {\n",
       "        vertical-align: top;\n",
       "    }\n",
       "\n",
       "    .dataframe thead th {\n",
       "        text-align: right;\n",
       "    }\n",
       "</style>\n",
       "<table border=\"1\" class=\"dataframe\">\n",
       "  <thead>\n",
       "    <tr style=\"text-align: right;\">\n",
       "      <th></th>\n",
       "      <th>class</th>\n",
       "      <th>cap-shape</th>\n",
       "      <th>cap-surface</th>\n",
       "      <th>cap-color</th>\n",
       "      <th>bruises</th>\n",
       "      <th>odor</th>\n",
       "      <th>gill-attachment</th>\n",
       "      <th>gill-spacing</th>\n",
       "      <th>gill-size</th>\n",
       "      <th>gill-color</th>\n",
       "      <th>...</th>\n",
       "      <th>stalk-surface-below-ring</th>\n",
       "      <th>stalk-color-above-ring</th>\n",
       "      <th>stalk-color-below-ring</th>\n",
       "      <th>veil-type</th>\n",
       "      <th>veil-color</th>\n",
       "      <th>ring-number</th>\n",
       "      <th>ring-type</th>\n",
       "      <th>spore-print-color</th>\n",
       "      <th>population</th>\n",
       "      <th>habitat</th>\n",
       "    </tr>\n",
       "  </thead>\n",
       "  <tbody>\n",
       "    <tr>\n",
       "      <th>count</th>\n",
       "      <td>8124</td>\n",
       "      <td>8124</td>\n",
       "      <td>8124</td>\n",
       "      <td>8124</td>\n",
       "      <td>8124</td>\n",
       "      <td>8124</td>\n",
       "      <td>8124</td>\n",
       "      <td>8124</td>\n",
       "      <td>8124</td>\n",
       "      <td>8124</td>\n",
       "      <td>...</td>\n",
       "      <td>8124</td>\n",
       "      <td>8124</td>\n",
       "      <td>8124</td>\n",
       "      <td>8124</td>\n",
       "      <td>8124</td>\n",
       "      <td>8124</td>\n",
       "      <td>8124</td>\n",
       "      <td>8124</td>\n",
       "      <td>8124</td>\n",
       "      <td>8124</td>\n",
       "    </tr>\n",
       "    <tr>\n",
       "      <th>unique</th>\n",
       "      <td>2</td>\n",
       "      <td>6</td>\n",
       "      <td>4</td>\n",
       "      <td>10</td>\n",
       "      <td>2</td>\n",
       "      <td>9</td>\n",
       "      <td>2</td>\n",
       "      <td>2</td>\n",
       "      <td>2</td>\n",
       "      <td>12</td>\n",
       "      <td>...</td>\n",
       "      <td>4</td>\n",
       "      <td>9</td>\n",
       "      <td>9</td>\n",
       "      <td>1</td>\n",
       "      <td>4</td>\n",
       "      <td>3</td>\n",
       "      <td>5</td>\n",
       "      <td>9</td>\n",
       "      <td>6</td>\n",
       "      <td>7</td>\n",
       "    </tr>\n",
       "    <tr>\n",
       "      <th>top</th>\n",
       "      <td>e</td>\n",
       "      <td>x</td>\n",
       "      <td>y</td>\n",
       "      <td>n</td>\n",
       "      <td>f</td>\n",
       "      <td>n</td>\n",
       "      <td>f</td>\n",
       "      <td>c</td>\n",
       "      <td>b</td>\n",
       "      <td>b</td>\n",
       "      <td>...</td>\n",
       "      <td>s</td>\n",
       "      <td>w</td>\n",
       "      <td>w</td>\n",
       "      <td>p</td>\n",
       "      <td>w</td>\n",
       "      <td>o</td>\n",
       "      <td>p</td>\n",
       "      <td>w</td>\n",
       "      <td>v</td>\n",
       "      <td>d</td>\n",
       "    </tr>\n",
       "    <tr>\n",
       "      <th>freq</th>\n",
       "      <td>4208</td>\n",
       "      <td>3656</td>\n",
       "      <td>3244</td>\n",
       "      <td>2284</td>\n",
       "      <td>4748</td>\n",
       "      <td>3528</td>\n",
       "      <td>7914</td>\n",
       "      <td>6812</td>\n",
       "      <td>5612</td>\n",
       "      <td>1728</td>\n",
       "      <td>...</td>\n",
       "      <td>4936</td>\n",
       "      <td>4464</td>\n",
       "      <td>4384</td>\n",
       "      <td>8124</td>\n",
       "      <td>7924</td>\n",
       "      <td>7488</td>\n",
       "      <td>3968</td>\n",
       "      <td>2388</td>\n",
       "      <td>4040</td>\n",
       "      <td>3148</td>\n",
       "    </tr>\n",
       "  </tbody>\n",
       "</table>\n",
       "<p>4 rows × 23 columns</p>\n",
       "</div>"
      ],
      "text/plain": [
       "       class cap-shape cap-surface cap-color bruises  odor gill-attachment  \\\n",
       "count   8124      8124        8124      8124    8124  8124            8124   \n",
       "unique     2         6           4        10       2     9               2   \n",
       "top        e         x           y         n       f     n               f   \n",
       "freq    4208      3656        3244      2284    4748  3528            7914   \n",
       "\n",
       "       gill-spacing gill-size gill-color  ... stalk-surface-below-ring  \\\n",
       "count          8124      8124       8124  ...                     8124   \n",
       "unique            2         2         12  ...                        4   \n",
       "top               c         b          b  ...                        s   \n",
       "freq           6812      5612       1728  ...                     4936   \n",
       "\n",
       "       stalk-color-above-ring stalk-color-below-ring veil-type veil-color  \\\n",
       "count                    8124                   8124      8124       8124   \n",
       "unique                      9                      9         1          4   \n",
       "top                         w                      w         p          w   \n",
       "freq                     4464                   4384      8124       7924   \n",
       "\n",
       "       ring-number ring-type spore-print-color population habitat  \n",
       "count         8124      8124              8124       8124    8124  \n",
       "unique           3         5                 9          6       7  \n",
       "top              o         p                 w          v       d  \n",
       "freq          7488      3968              2388       4040    3148  \n",
       "\n",
       "[4 rows x 23 columns]"
      ]
     },
     "execution_count": 41,
     "metadata": {},
     "output_type": "execute_result"
    }
   ],
   "source": [
    "data_describe = data.describe(include = [object])\n",
    "data.describe(include = [object])"
   ]
  },
  {
   "cell_type": "code",
   "execution_count": 42,
   "id": "818d1d8b",
   "metadata": {},
   "outputs": [
    {
     "name": "stdout",
     "output_type": "stream",
     "text": [
      "['class', 'bruises', 'gill-attachment', 'gill-spacing', 'gill-size', 'stalk-shape'] ['cap-shape', 'cap-surface', 'cap-color', 'odor', 'gill-color', 'stalk-root', 'stalk-surface-above-ring', 'stalk-surface-below-ring', 'stalk-color-above-ring', 'stalk-color-below-ring', 'veil-color', 'ring-number', 'ring-type', 'spore-print-color', 'population', 'habitat']\n"
     ]
    }
   ],
   "source": [
    "binary_columns    = [c for c in categorical_columns if data_describe[c]['unique'] == 2]\n",
    "nonbinary_columns = [c for c in categorical_columns if data_describe[c]['unique'] > 2]\n",
    "print(binary_columns, nonbinary_columns)"
   ]
  },
  {
   "cell_type": "markdown",
   "id": "e545ac5d",
   "metadata": {},
   "source": [
    "Обработаем бинарные признаки:"
   ]
  },
  {
   "cell_type": "code",
   "execution_count": 47,
   "id": "3746b295",
   "metadata": {},
   "outputs": [],
   "source": [
    "data['class'] = pd.factorize(data['class'])[0] #0 - ядовитые, 1 - съедобные\n",
    "data['bruises'] = pd.factorize(data['bruises'])[0] #повреждения 0 - есть, 1 - нет\n",
    "data['gill-attachment'] = pd.factorize(data['gill-attachment'])[0] #гимений 0 - есть, 1 - нет\n",
    "data['gill-spacing'] = pd.factorize(data['gill-spacing'])[0] \n",
    "data['gill-size'] = pd.factorize(data['gill-size'])[0] \n",
    "data['stalk-shape'] = pd.factorize(data['stalk-shape'])[0] "
   ]
  },
  {
   "cell_type": "markdown",
   "id": "009226e5",
   "metadata": {},
   "source": [
    "А сейчас займемся небинарными признаками, которых у нас больше всего...\n",
    "Применим к ним метод векторизации. Каждый такой признак мы разобьем на несколько, по числу его уникальных вхождений."
   ]
  },
  {
   "cell_type": "code",
   "execution_count": 48,
   "id": "bebd4c93",
   "metadata": {},
   "outputs": [
    {
     "data": {
      "text/html": [
       "<div>\n",
       "<style scoped>\n",
       "    .dataframe tbody tr th:only-of-type {\n",
       "        vertical-align: middle;\n",
       "    }\n",
       "\n",
       "    .dataframe tbody tr th {\n",
       "        vertical-align: top;\n",
       "    }\n",
       "\n",
       "    .dataframe thead th {\n",
       "        text-align: right;\n",
       "    }\n",
       "</style>\n",
       "<table border=\"1\" class=\"dataframe\">\n",
       "  <thead>\n",
       "    <tr style=\"text-align: right;\">\n",
       "      <th></th>\n",
       "      <th>cap-shape</th>\n",
       "      <th>cap-surface</th>\n",
       "      <th>cap-color</th>\n",
       "      <th>odor</th>\n",
       "      <th>gill-color</th>\n",
       "      <th>stalk-root</th>\n",
       "      <th>stalk-surface-above-ring</th>\n",
       "      <th>stalk-surface-below-ring</th>\n",
       "      <th>stalk-color-above-ring</th>\n",
       "      <th>stalk-color-below-ring</th>\n",
       "      <th>veil-color</th>\n",
       "      <th>ring-number</th>\n",
       "      <th>ring-type</th>\n",
       "      <th>spore-print-color</th>\n",
       "      <th>population</th>\n",
       "      <th>habitat</th>\n",
       "    </tr>\n",
       "  </thead>\n",
       "  <tbody>\n",
       "    <tr>\n",
       "      <th>0</th>\n",
       "      <td>x</td>\n",
       "      <td>s</td>\n",
       "      <td>n</td>\n",
       "      <td>p</td>\n",
       "      <td>k</td>\n",
       "      <td>e</td>\n",
       "      <td>s</td>\n",
       "      <td>s</td>\n",
       "      <td>w</td>\n",
       "      <td>w</td>\n",
       "      <td>w</td>\n",
       "      <td>o</td>\n",
       "      <td>p</td>\n",
       "      <td>k</td>\n",
       "      <td>s</td>\n",
       "      <td>u</td>\n",
       "    </tr>\n",
       "    <tr>\n",
       "      <th>1</th>\n",
       "      <td>x</td>\n",
       "      <td>s</td>\n",
       "      <td>y</td>\n",
       "      <td>a</td>\n",
       "      <td>k</td>\n",
       "      <td>c</td>\n",
       "      <td>s</td>\n",
       "      <td>s</td>\n",
       "      <td>w</td>\n",
       "      <td>w</td>\n",
       "      <td>w</td>\n",
       "      <td>o</td>\n",
       "      <td>p</td>\n",
       "      <td>n</td>\n",
       "      <td>n</td>\n",
       "      <td>g</td>\n",
       "    </tr>\n",
       "    <tr>\n",
       "      <th>2</th>\n",
       "      <td>b</td>\n",
       "      <td>s</td>\n",
       "      <td>w</td>\n",
       "      <td>l</td>\n",
       "      <td>n</td>\n",
       "      <td>c</td>\n",
       "      <td>s</td>\n",
       "      <td>s</td>\n",
       "      <td>w</td>\n",
       "      <td>w</td>\n",
       "      <td>w</td>\n",
       "      <td>o</td>\n",
       "      <td>p</td>\n",
       "      <td>n</td>\n",
       "      <td>n</td>\n",
       "      <td>m</td>\n",
       "    </tr>\n",
       "    <tr>\n",
       "      <th>3</th>\n",
       "      <td>x</td>\n",
       "      <td>y</td>\n",
       "      <td>w</td>\n",
       "      <td>p</td>\n",
       "      <td>n</td>\n",
       "      <td>e</td>\n",
       "      <td>s</td>\n",
       "      <td>s</td>\n",
       "      <td>w</td>\n",
       "      <td>w</td>\n",
       "      <td>w</td>\n",
       "      <td>o</td>\n",
       "      <td>p</td>\n",
       "      <td>k</td>\n",
       "      <td>s</td>\n",
       "      <td>u</td>\n",
       "    </tr>\n",
       "    <tr>\n",
       "      <th>4</th>\n",
       "      <td>x</td>\n",
       "      <td>s</td>\n",
       "      <td>g</td>\n",
       "      <td>n</td>\n",
       "      <td>k</td>\n",
       "      <td>e</td>\n",
       "      <td>s</td>\n",
       "      <td>s</td>\n",
       "      <td>w</td>\n",
       "      <td>w</td>\n",
       "      <td>w</td>\n",
       "      <td>o</td>\n",
       "      <td>e</td>\n",
       "      <td>n</td>\n",
       "      <td>a</td>\n",
       "      <td>g</td>\n",
       "    </tr>\n",
       "    <tr>\n",
       "      <th>...</th>\n",
       "      <td>...</td>\n",
       "      <td>...</td>\n",
       "      <td>...</td>\n",
       "      <td>...</td>\n",
       "      <td>...</td>\n",
       "      <td>...</td>\n",
       "      <td>...</td>\n",
       "      <td>...</td>\n",
       "      <td>...</td>\n",
       "      <td>...</td>\n",
       "      <td>...</td>\n",
       "      <td>...</td>\n",
       "      <td>...</td>\n",
       "      <td>...</td>\n",
       "      <td>...</td>\n",
       "      <td>...</td>\n",
       "    </tr>\n",
       "    <tr>\n",
       "      <th>8119</th>\n",
       "      <td>k</td>\n",
       "      <td>s</td>\n",
       "      <td>n</td>\n",
       "      <td>n</td>\n",
       "      <td>y</td>\n",
       "      <td>?</td>\n",
       "      <td>s</td>\n",
       "      <td>s</td>\n",
       "      <td>o</td>\n",
       "      <td>o</td>\n",
       "      <td>o</td>\n",
       "      <td>o</td>\n",
       "      <td>p</td>\n",
       "      <td>b</td>\n",
       "      <td>c</td>\n",
       "      <td>l</td>\n",
       "    </tr>\n",
       "    <tr>\n",
       "      <th>8120</th>\n",
       "      <td>x</td>\n",
       "      <td>s</td>\n",
       "      <td>n</td>\n",
       "      <td>n</td>\n",
       "      <td>y</td>\n",
       "      <td>?</td>\n",
       "      <td>s</td>\n",
       "      <td>s</td>\n",
       "      <td>o</td>\n",
       "      <td>o</td>\n",
       "      <td>n</td>\n",
       "      <td>o</td>\n",
       "      <td>p</td>\n",
       "      <td>b</td>\n",
       "      <td>v</td>\n",
       "      <td>l</td>\n",
       "    </tr>\n",
       "    <tr>\n",
       "      <th>8121</th>\n",
       "      <td>f</td>\n",
       "      <td>s</td>\n",
       "      <td>n</td>\n",
       "      <td>n</td>\n",
       "      <td>n</td>\n",
       "      <td>?</td>\n",
       "      <td>s</td>\n",
       "      <td>s</td>\n",
       "      <td>o</td>\n",
       "      <td>o</td>\n",
       "      <td>o</td>\n",
       "      <td>o</td>\n",
       "      <td>p</td>\n",
       "      <td>b</td>\n",
       "      <td>c</td>\n",
       "      <td>l</td>\n",
       "    </tr>\n",
       "    <tr>\n",
       "      <th>8122</th>\n",
       "      <td>k</td>\n",
       "      <td>y</td>\n",
       "      <td>n</td>\n",
       "      <td>y</td>\n",
       "      <td>b</td>\n",
       "      <td>?</td>\n",
       "      <td>s</td>\n",
       "      <td>k</td>\n",
       "      <td>w</td>\n",
       "      <td>w</td>\n",
       "      <td>w</td>\n",
       "      <td>o</td>\n",
       "      <td>e</td>\n",
       "      <td>w</td>\n",
       "      <td>v</td>\n",
       "      <td>l</td>\n",
       "    </tr>\n",
       "    <tr>\n",
       "      <th>8123</th>\n",
       "      <td>x</td>\n",
       "      <td>s</td>\n",
       "      <td>n</td>\n",
       "      <td>n</td>\n",
       "      <td>y</td>\n",
       "      <td>?</td>\n",
       "      <td>s</td>\n",
       "      <td>s</td>\n",
       "      <td>o</td>\n",
       "      <td>o</td>\n",
       "      <td>o</td>\n",
       "      <td>o</td>\n",
       "      <td>p</td>\n",
       "      <td>o</td>\n",
       "      <td>c</td>\n",
       "      <td>l</td>\n",
       "    </tr>\n",
       "  </tbody>\n",
       "</table>\n",
       "<p>8124 rows × 16 columns</p>\n",
       "</div>"
      ],
      "text/plain": [
       "     cap-shape cap-surface cap-color odor gill-color stalk-root  \\\n",
       "0            x           s         n    p          k          e   \n",
       "1            x           s         y    a          k          c   \n",
       "2            b           s         w    l          n          c   \n",
       "3            x           y         w    p          n          e   \n",
       "4            x           s         g    n          k          e   \n",
       "...        ...         ...       ...  ...        ...        ...   \n",
       "8119         k           s         n    n          y          ?   \n",
       "8120         x           s         n    n          y          ?   \n",
       "8121         f           s         n    n          n          ?   \n",
       "8122         k           y         n    y          b          ?   \n",
       "8123         x           s         n    n          y          ?   \n",
       "\n",
       "     stalk-surface-above-ring stalk-surface-below-ring stalk-color-above-ring  \\\n",
       "0                           s                        s                      w   \n",
       "1                           s                        s                      w   \n",
       "2                           s                        s                      w   \n",
       "3                           s                        s                      w   \n",
       "4                           s                        s                      w   \n",
       "...                       ...                      ...                    ...   \n",
       "8119                        s                        s                      o   \n",
       "8120                        s                        s                      o   \n",
       "8121                        s                        s                      o   \n",
       "8122                        s                        k                      w   \n",
       "8123                        s                        s                      o   \n",
       "\n",
       "     stalk-color-below-ring veil-color ring-number ring-type  \\\n",
       "0                         w          w           o         p   \n",
       "1                         w          w           o         p   \n",
       "2                         w          w           o         p   \n",
       "3                         w          w           o         p   \n",
       "4                         w          w           o         e   \n",
       "...                     ...        ...         ...       ...   \n",
       "8119                      o          o           o         p   \n",
       "8120                      o          n           o         p   \n",
       "8121                      o          o           o         p   \n",
       "8122                      w          w           o         e   \n",
       "8123                      o          o           o         p   \n",
       "\n",
       "     spore-print-color population habitat  \n",
       "0                    k          s       u  \n",
       "1                    n          n       g  \n",
       "2                    n          n       m  \n",
       "3                    k          s       u  \n",
       "4                    n          a       g  \n",
       "...                ...        ...     ...  \n",
       "8119                 b          c       l  \n",
       "8120                 b          v       l  \n",
       "8121                 b          c       l  \n",
       "8122                 w          v       l  \n",
       "8123                 o          c       l  \n",
       "\n",
       "[8124 rows x 16 columns]"
      ]
     },
     "execution_count": 48,
     "metadata": {},
     "output_type": "execute_result"
    }
   ],
   "source": [
    "data[nonbinary_columns]"
   ]
  },
  {
   "cell_type": "code",
   "execution_count": 49,
   "id": "f0a1a2e4",
   "metadata": {},
   "outputs": [
    {
     "name": "stdout",
     "output_type": "stream",
     "text": [
      "Index(['cap-shape_b', 'cap-shape_c', 'cap-shape_f', 'cap-shape_k',\n",
      "       'cap-shape_s', 'cap-shape_x', 'cap-surface_f', 'cap-surface_g',\n",
      "       'cap-surface_s', 'cap-surface_y',\n",
      "       ...\n",
      "       'population_s', 'population_v', 'population_y', 'habitat_d',\n",
      "       'habitat_g', 'habitat_l', 'habitat_m', 'habitat_p', 'habitat_u',\n",
      "       'habitat_w'],\n",
      "      dtype='object', length=106)\n"
     ]
    }
   ],
   "source": [
    "data_nonbinary = pd.get_dummies(data[nonbinary_columns])\n",
    "print(data_nonbinary.columns)"
   ]
  },
  {
   "cell_type": "markdown",
   "id": "25dc573c",
   "metadata": {},
   "source": [
    "Из 16 столбцов получилось уже 106. Теперь нам нужно соединить всё это в одну таблицу."
   ]
  },
  {
   "cell_type": "code",
   "execution_count": 53,
   "id": "60e17936",
   "metadata": {},
   "outputs": [
    {
     "name": "stdout",
     "output_type": "stream",
     "text": [
      "(8124, 112)\n"
     ]
    }
   ],
   "source": [
    "data = pd.concat((data_nonbinary, data[binary_columns]), axis = 1)\n",
    "print(data.shape)"
   ]
  },
  {
   "cell_type": "markdown",
   "id": "19ac48fb",
   "metadata": {},
   "source": [
    "Немного математики. Было 23 столбца, из них 6 бинарные, а 16 небинарные, из 16 получилось 106, а другие 6 так и остались. Получилось 106+6=112, всё верно. Внимание вопрос, что тут не так?\n",
    "\n",
    "16+6 != 23. Куда же делся еще один признак?! Причем они все категориальные, это уже проверено... \n",
    "\n",
    "Если бы мы обратили внимание ранее, признак veil-type имеет лишь одно значение(в данном наборе данных), поэтому, в общем-то, толку от него нет, не будем о нем и вспоминать...\n",
    "\n",
    "Ну а поскольку количественных признаков у нас нет, то предобработку данных мы на этом и закончим, и никакая нормализация нам тут не нужна. \n",
    "\n",
    "# 6. Разбиваем данные на обучающую и тестовую выборки #"
   ]
  },
  {
   "cell_type": "code",
   "execution_count": 54,
   "id": "c452960c",
   "metadata": {},
   "outputs": [],
   "source": [
    "X = data.drop('class', axis = 1)\n",
    "y = data['class']"
   ]
  },
  {
   "cell_type": "markdown",
   "id": "95028d09",
   "metadata": {},
   "source": [
    "Разобьем данные на обучающую и тестовую выборки в пропорции 3:1 (75% - обучающая выборка, 25% - тестовая):"
   ]
  },
  {
   "cell_type": "code",
   "execution_count": 55,
   "id": "e8b625f8",
   "metadata": {},
   "outputs": [
    {
     "data": {
      "text/plain": [
       "(6093, 2031)"
      ]
     },
     "execution_count": 55,
     "metadata": {},
     "output_type": "execute_result"
    }
   ],
   "source": [
    "from sklearn.model_selection import train_test_split\n",
    "X_train, X_test, y_train, y_test = train_test_split(X, y, test_size = 0.25, random_state = 42)\n",
    "\n",
    "N_train, _ = X_train.shape \n",
    "N_test,  _ = X_test.shape \n",
    "\n",
    "N_train, N_test"
   ]
  },
  {
   "cell_type": "markdown",
   "id": "db74c291",
   "metadata": {},
   "source": [
    "# Метод k-ближайших соседей #\n"
   ]
  },
  {
   "cell_type": "code",
   "execution_count": 56,
   "id": "4cad289d",
   "metadata": {},
   "outputs": [
    {
     "data": {
      "text/plain": [
       "KNeighborsClassifier(n_neighbors=10)"
      ]
     },
     "execution_count": 56,
     "metadata": {},
     "output_type": "execute_result"
    }
   ],
   "source": [
    "from sklearn.neighbors import KNeighborsClassifier\n",
    "\n",
    "knn = KNeighborsClassifier(n_neighbors = 10)\n",
    "#knn.set_params(n_neighbors=10)\n",
    "knn.fit(X_train, y_train)"
   ]
  },
  {
   "cell_type": "code",
   "execution_count": 57,
   "id": "67ef44db",
   "metadata": {},
   "outputs": [
    {
     "data": {
      "text/plain": [
       "0.0"
      ]
     },
     "execution_count": 57,
     "metadata": {},
     "output_type": "execute_result"
    }
   ],
   "source": [
    "y_test_predict = knn.predict(X_test)\n",
    "err_test  = np.mean(y_test  != y_test_predict)\n",
    "err_test"
   ]
  },
  {
   "cell_type": "code",
   "execution_count": 59,
   "id": "84f9c05e",
   "metadata": {},
   "outputs": [
    {
     "data": {
      "text/plain": [
       "0.0"
      ]
     },
     "execution_count": 59,
     "metadata": {},
     "output_type": "execute_result"
    }
   ],
   "source": [
    "err_test = 1 - knn.score(X_test, y_test)\n",
    "err_test"
   ]
  },
  {
   "cell_type": "markdown",
   "id": "67d37a50",
   "metadata": {},
   "source": [
    "Хмм, именно в этот момент я подумала, что что-то сломалось и не может же быть все так хорошо, поэтому попробуем испортить или улучшить полученный результат"
   ]
  },
  {
   "cell_type": "code",
   "execution_count": 66,
   "id": "ded66319",
   "metadata": {},
   "outputs": [
    {
     "data": {
      "text/plain": [
       "KNeighborsClassifier(n_neighbors=39)"
      ]
     },
     "execution_count": 66,
     "metadata": {},
     "output_type": "execute_result"
    }
   ],
   "source": [
    "from sklearn.neighbors import KNeighborsClassifier\n",
    "\n",
    "knn = KNeighborsClassifier(n_neighbors = 39)\n",
    "knn.fit(X_train, y_train)"
   ]
  },
  {
   "cell_type": "code",
   "execution_count": 67,
   "id": "ee53a57e",
   "metadata": {},
   "outputs": [
    {
     "data": {
      "text/plain": [
       "0.0014771048744460858"
      ]
     },
     "execution_count": 67,
     "metadata": {},
     "output_type": "execute_result"
    }
   ],
   "source": [
    "y_test_predict = knn.predict(X_test)\n",
    "err_test  = np.mean(y_test  != y_test_predict) #он всё-таки может считать с ошибками!\n",
    "err_test"
   ]
  },
  {
   "cell_type": "code",
   "execution_count": 68,
   "id": "fcf3f8ac",
   "metadata": {},
   "outputs": [
    {
     "data": {
      "text/plain": [
       "KNeighborsClassifier(n_neighbors=1)"
      ]
     },
     "execution_count": 68,
     "metadata": {},
     "output_type": "execute_result"
    }
   ],
   "source": [
    "from sklearn.neighbors import KNeighborsClassifier\n",
    "\n",
    "knn = KNeighborsClassifier(n_neighbors = 1)\n",
    "knn.fit(X_train, y_train)"
   ]
  },
  {
   "cell_type": "code",
   "execution_count": 69,
   "id": "e2582e73",
   "metadata": {},
   "outputs": [
    {
     "data": {
      "text/plain": [
       "0.0"
      ]
     },
     "execution_count": 69,
     "metadata": {},
     "output_type": "execute_result"
    }
   ],
   "source": [
    "y_test_predict = knn.predict(X_test)\n",
    "err_test  = np.mean(y_test  != y_test_predict)\n",
    "err_test"
   ]
  },
  {
   "cell_type": "markdown",
   "id": "d1e34f2f",
   "metadata": {},
   "source": [
    "Интересная, конечно, получается картина! И подбор оптимального количества соседей даже не нужен. Конечно, смысла особо нет, но давайте проверим есть ли ошибки на обучающей выборке. "
   ]
  },
  {
   "cell_type": "code",
   "execution_count": 71,
   "id": "916959d9",
   "metadata": {},
   "outputs": [
    {
     "name": "stdout",
     "output_type": "stream",
     "text": [
      "0.0 0.0\n"
     ]
    }
   ],
   "source": [
    "knn = KNeighborsClassifier(n_neighbors = 1).fit(X_train, y_train)\n",
    "\n",
    "err_train = np.mean(y_train != knn.predict(X_train))\n",
    "err_test  = np.mean(y_test  != knn.predict(X_test))\n",
    "\n",
    "print(err_train, err_test)"
   ]
  },
  {
   "cell_type": "markdown",
   "id": "2ba1b5bb",
   "metadata": {},
   "source": [
    "# Предварительные выводы # \n",
    "\n",
    "Здесь пора бы сделать какие-нибудь выводы. \n",
    "Как мы видим, из-за отсуствия ошибок, можно придти к выводу, что задача классификации грибов на съедобные и условно несъедобные/ядовитые по внешним признакам имеет место быть. Причем, как было замечено уже в самом начале, даже по запаху можно определить с большой точностью, к какому классу относится найденный гриб.\n",
    "\n",
    "Но я считаю, что все вышесказанное не может со 100% вероятностью быть верным. В выборке представлено 8 тысяч объектов, в то время как в царстве грибов описано около 100 тысяч, а по некоторым оценкам их может быть около 1.5млн! Также следует отметить, что некоторые виды признаков, которые могут быть у грибов, в данной выборке не встречались. Чего стоит бедный veil-type, который мы беспощадно выбросили! В выборке представлен только 1 его вид, хотя их два. Такое же было замечено и у других признаков.\n",
    "\n",
    "В общем, всем этим хотелось бы сказать, что не стоит есть незнакомые вам грибы! \n",
    "\n",
    "Ну и хотелось бы попробовать применить другие методы, возможно сравнить их.\n",
    "\n",
    "# Рубрика эксперименты, еще выводы ниже #"
   ]
  },
  {
   "cell_type": "markdown",
   "id": "cf0f70a5",
   "metadata": {},
   "source": [
    "Стоит попробовать разбить данные для обучающей и тестовой выборки по-другому. Для начала попробуем обучить на 25%"
   ]
  },
  {
   "cell_type": "code",
   "execution_count": 88,
   "id": "0c1c262e",
   "metadata": {},
   "outputs": [
    {
     "data": {
      "text/plain": [
       "(2031, 6093)"
      ]
     },
     "execution_count": 88,
     "metadata": {},
     "output_type": "execute_result"
    }
   ],
   "source": [
    "X = data.drop('class', axis = 1)\n",
    "y = data['class']\n",
    "\n",
    "from sklearn.model_selection import train_test_split\n",
    "X_train, X_test, y_train, y_test = train_test_split(X, y, test_size = 0.75, random_state = 42)\n",
    "\n",
    "N_train, _ = X_train.shape \n",
    "N_test,  _ = X_test.shape \n",
    "\n",
    "N_train, N_test"
   ]
  },
  {
   "cell_type": "code",
   "execution_count": 89,
   "id": "46b4e713",
   "metadata": {},
   "outputs": [
    {
     "data": {
      "text/plain": [
       "KNeighborsClassifier(n_neighbors=3)"
      ]
     },
     "execution_count": 89,
     "metadata": {},
     "output_type": "execute_result"
    }
   ],
   "source": [
    "from sklearn.neighbors import KNeighborsClassifier\n",
    "\n",
    "knn = KNeighborsClassifier(n_neighbors = 3)\n",
    "#knn.set_params(n_neighbors=10)\n",
    "knn.fit(X_train, y_train)"
   ]
  },
  {
   "cell_type": "code",
   "execution_count": 90,
   "id": "3e22c294",
   "metadata": {},
   "outputs": [
    {
     "data": {
      "text/plain": [
       "0.0"
      ]
     },
     "execution_count": 90,
     "metadata": {},
     "output_type": "execute_result"
    }
   ],
   "source": [
    "y_test_predict = knn.predict(X_test)\n",
    "err_test  = np.mean(y_test  != y_test_predict)\n",
    "err_test"
   ]
  },
  {
   "cell_type": "markdown",
   "id": "53e36a16",
   "metadata": {},
   "source": [
    "Отлично, ошибок нет! Сделаем обучающую еще меньше, 5%"
   ]
  },
  {
   "cell_type": "code",
   "execution_count": 91,
   "id": "78246110",
   "metadata": {},
   "outputs": [
    {
     "data": {
      "text/plain": [
       "(406, 7718)"
      ]
     },
     "execution_count": 91,
     "metadata": {},
     "output_type": "execute_result"
    }
   ],
   "source": [
    "X = data.drop('class', axis = 1)\n",
    "y = data['class']\n",
    "\n",
    "from sklearn.model_selection import train_test_split\n",
    "X_train, X_test, y_train, y_test = train_test_split(X, y, test_size = 0.95, random_state = 42)\n",
    "\n",
    "N_train, _ = X_train.shape \n",
    "N_test,  _ = X_test.shape \n",
    "\n",
    "N_train, N_test"
   ]
  },
  {
   "cell_type": "code",
   "execution_count": 99,
   "id": "e87005ed",
   "metadata": {},
   "outputs": [
    {
     "data": {
      "text/plain": [
       "KNeighborsClassifier(n_neighbors=4)"
      ]
     },
     "execution_count": 99,
     "metadata": {},
     "output_type": "execute_result"
    }
   ],
   "source": [
    "from sklearn.neighbors import KNeighborsClassifier\n",
    "\n",
    "knn = KNeighborsClassifier(n_neighbors = 4)\n",
    "#knn.set_params(n_neighbors=10)\n",
    "knn.fit(X_train, y_train)"
   ]
  },
  {
   "cell_type": "code",
   "execution_count": 100,
   "id": "aab5472f",
   "metadata": {},
   "outputs": [
    {
     "data": {
      "text/plain": [
       "0.008292303705623219"
      ]
     },
     "execution_count": 100,
     "metadata": {},
     "output_type": "execute_result"
    }
   ],
   "source": [
    "y_test_predict = knn.predict(X_test)\n",
    "err_test  = np.mean(y_test  != y_test_predict)\n",
    "err_test"
   ]
  },
  {
   "cell_type": "markdown",
   "id": "e5e1b714",
   "metadata": {},
   "source": [
    "Уже интересно! Попробуем здесь использовать подбор оптимального числа для метода"
   ]
  },
  {
   "cell_type": "code",
   "execution_count": 101,
   "id": "c443d547",
   "metadata": {},
   "outputs": [
    {
     "name": "stdout",
     "output_type": "stream",
     "text": [
      "0.004878048780487809 1\n"
     ]
    }
   ],
   "source": [
    "# Долго!\n",
    "from sklearn.model_selection import GridSearchCV\n",
    "nnb = [1, 2, 3, 4, 5, 10, 15, 20, 25, 35, 45, 55]\n",
    "knn = KNeighborsClassifier()\n",
    "grid = GridSearchCV(knn, param_grid = {'n_neighbors': nnb}, cv=10)\n",
    "grid.fit(X_train, y_train)\n",
    "\n",
    "best_cv_err = 1 - grid.best_score_\n",
    "best_n_neighbors = grid.best_estimator_.n_neighbors\n",
    "print(best_cv_err, best_n_neighbors)"
   ]
  },
  {
   "cell_type": "code",
   "execution_count": 104,
   "id": "c6af9685",
   "metadata": {},
   "outputs": [
    {
     "name": "stdout",
     "output_type": "stream",
     "text": [
      "0.0 0.0019435086810054417 1\n"
     ]
    }
   ],
   "source": [
    "knn = KNeighborsClassifier(n_neighbors = best_n_neighbors).fit(X_train, y_train)\n",
    "\n",
    "err_train = np.mean(y_train != knn.predict(X_train))\n",
    "err_test  = np.mean(y_test  != knn.predict(X_test))\n",
    "\n",
    "print(err_train, err_test, best_n_neighbors)"
   ]
  },
  {
   "cell_type": "code",
   "execution_count": 105,
   "id": "590f38ad",
   "metadata": {},
   "outputs": [
    {
     "data": {
      "image/png": "[encoded data removed]",
      "text/plain": [
       "<Figure size 432x288 with 2 Axes>"
      ]
     },
     "metadata": {
      "needs_background": "light"
     },
     "output_type": "display_data"
    }
   ],
   "source": [
    "from sklearn.metrics import plot_confusion_matrix\n",
    "plot_confusion_matrix(knn, X_test, y_test, cmap=plt.cm.Blues)\n",
    "pass"
   ]
  },
  {
   "cell_type": "markdown",
   "id": "d03ccf2e",
   "metadata": {},
   "source": [
    "Достаточно хороший результат! Учитывая, что для обучения мы использовали 406 объектов. \n",
    "\n",
    "Попробуем для этого же процентного соотношения и другие методы.\n",
    "\n",
    "# SVC #"
   ]
  },
  {
   "cell_type": "code",
   "execution_count": 106,
   "id": "b05624f9",
   "metadata": {},
   "outputs": [
    {
     "name": "stdout",
     "output_type": "stream",
     "text": [
      "0.014778325123152709 0.023062969681264575\n"
     ]
    }
   ],
   "source": [
    "from sklearn.svm import SVC\n",
    "svc = SVC(gamma='auto')\n",
    "svc.fit(X_train, y_train)\n",
    "\n",
    "err_train = np.mean(y_train != svc.predict(X_train))\n",
    "err_test  = np.mean(y_test  != svc.predict(X_test))\n",
    "\n",
    "print(err_train, err_test)"
   ]
  },
  {
   "cell_type": "code",
   "execution_count": 107,
   "id": "a7058992",
   "metadata": {},
   "outputs": [
    {
     "name": "stdout",
     "output_type": "stream",
     "text": [
      "0.0024691358024692134 10.0\n"
     ]
    }
   ],
   "source": [
    "from sklearn.model_selection import GridSearchCV\n",
    "Cs = 10.**np.arange(-5, 5)\n",
    "gamma_array = 10.**np.arange(-5, 5)\n",
    "svc = SVC(gamma='auto')\n",
    "grid = GridSearchCV(svc, cv=3, param_grid = {'C': Cs, 'gamma': gamma_array})\n",
    "grid.fit(X_train, y_train)\n",
    "\n",
    "best_cv_err = 1 - grid.best_score_\n",
    "best_C = grid.best_estimator_.C\n",
    "print(best_cv_err, best_C)"
   ]
  },
  {
   "cell_type": "code",
   "execution_count": 109,
   "id": "4369785f",
   "metadata": {},
   "outputs": [
    {
     "name": "stdout",
     "output_type": "stream",
     "text": [
      "0.0 0.005312257061414874\n"
     ]
    }
   ],
   "source": [
    "svc = SVC(C = best_C, gamma='auto').fit(X_train, y_train)\n",
    "\n",
    "err_train = np.mean(y_train != svc.predict(X_train))\n",
    "err_test  = np.mean(y_test  != svc.predict(X_test))\n",
    "\n",
    "print(err_train, err_test)"
   ]
  },
  {
   "cell_type": "markdown",
   "id": "db4eab32",
   "metadata": {},
   "source": [
    "Так-с, здесь результат получился хуже, чем с knn. Попробуем что-нибудь еще..\n",
    "\n",
    "# Random Forest #"
   ]
  },
  {
   "cell_type": "code",
   "execution_count": 113,
   "id": "b0fabaaa",
   "metadata": {},
   "outputs": [
    {
     "name": "stdout",
     "output_type": "stream",
     "text": [
      "0.0 0.0020730759264058047\n"
     ]
    }
   ],
   "source": [
    "from sklearn import ensemble\n",
    "rf = ensemble.RandomForestClassifier(n_estimators = 1000)\n",
    "rf.fit(X_train, y_train)\n",
    "\n",
    "err_train = np.mean(y_train != rf.predict(X_train))\n",
    "err_test  = np.mean(y_test  != rf.predict(X_test))\n",
    "\n",
    "print(err_train, err_test)"
   ]
  },
  {
   "cell_type": "markdown",
   "id": "b95d6bcb",
   "metadata": {},
   "source": [
    "# Extremely Randomized Trees #"
   ]
  },
  {
   "cell_type": "code",
   "execution_count": 111,
   "id": "91875225",
   "metadata": {},
   "outputs": [
    {
     "name": "stdout",
     "output_type": "stream",
     "text": [
      "0.0 0.0020730759264058047\n"
     ]
    }
   ],
   "source": [
    "from sklearn import ensemble\n",
    "ert = ensemble.ExtraTreesClassifier(n_estimators = 100).fit(X_train, y_train)\n",
    "\n",
    "err_train = np.mean(y_train != ert.predict(X_train))\n",
    "err_test  = np.mean(y_test  != ert.predict(X_test))\n",
    "\n",
    "print(err_train, err_test)"
   ]
  },
  {
   "cell_type": "markdown",
   "id": "c002a029",
   "metadata": {},
   "source": [
    "# AdaBoost #"
   ]
  },
  {
   "cell_type": "code",
   "execution_count": 112,
   "id": "e2096996",
   "metadata": {},
   "outputs": [
    {
     "name": "stdout",
     "output_type": "stream",
     "text": [
      "0.0 0.003109613889608707\n"
     ]
    }
   ],
   "source": [
    "ada = ensemble.AdaBoostClassifier(n_estimators = 1000)\n",
    "ada.fit(X_train, y_train)\n",
    "\n",
    "err_train = np.mean(y_train != ada.predict(X_train))\n",
    "err_test = np.mean(y_test != ada.predict(X_test))\n",
    "\n",
    "print(err_train, err_test)"
   ]
  },
  {
   "cell_type": "markdown",
   "id": "1d79fddd",
   "metadata": {},
   "source": [
    "# GBT #"
   ]
  },
  {
   "cell_type": "code",
   "execution_count": 115,
   "id": "b265e72c",
   "metadata": {},
   "outputs": [
    {
     "name": "stdout",
     "output_type": "stream",
     "text": [
      "0.0 0.003109613889608707\n"
     ]
    }
   ],
   "source": [
    "gbt = ensemble.GradientBoostingClassifier(n_estimators = 1000)\n",
    "gbt.fit(X_train, y_train)\n",
    "\n",
    "err_train = np.mean(y_train != gbt.predict(X_train))\n",
    "err_test = np.mean(y_test != gbt.predict(X_test))\n",
    "\n",
    "print(err_train, err_test)"
   ]
  },
  {
   "cell_type": "markdown",
   "id": "330095eb",
   "metadata": {},
   "source": [
    "В целом оказалось, что для такого объема выборки самым эффективным так и остался knn с подбором оптимального количества соседей. Чуть хуже себя показали Random Forest и Extremely Randomized Trees. В целом, выводы по задаче были сделаны ранее, что-то новое сложно добавить. Спасибо за внимание, теперь вы чуть больше узнали о грибах!\n",
    "\n",
    "# Дальше читать не нужно!!! #\n",
    "\n",
    "Хотелось бы еще немного поиграться с данными, когда они уже условно числовые и между ними можно найти какие-то зависимости.\n"
   ]
  },
  {
   "cell_type": "code",
   "execution_count": 116,
   "id": "4398eb47",
   "metadata": {},
   "outputs": [
    {
     "data": {
      "text/html": [
       "<div>\n",
       "<style scoped>\n",
       "    .dataframe tbody tr th:only-of-type {\n",
       "        vertical-align: middle;\n",
       "    }\n",
       "\n",
       "    .dataframe tbody tr th {\n",
       "        vertical-align: top;\n",
       "    }\n",
       "\n",
       "    .dataframe thead th {\n",
       "        text-align: right;\n",
       "    }\n",
       "</style>\n",
       "<table border=\"1\" class=\"dataframe\">\n",
       "  <thead>\n",
       "    <tr style=\"text-align: right;\">\n",
       "      <th></th>\n",
       "      <th>cap-shape_b</th>\n",
       "      <th>cap-shape_c</th>\n",
       "      <th>cap-shape_f</th>\n",
       "      <th>cap-shape_k</th>\n",
       "      <th>cap-shape_s</th>\n",
       "      <th>cap-shape_x</th>\n",
       "      <th>cap-surface_f</th>\n",
       "      <th>cap-surface_g</th>\n",
       "      <th>cap-surface_s</th>\n",
       "      <th>cap-surface_y</th>\n",
       "      <th>...</th>\n",
       "      <th>habitat_m</th>\n",
       "      <th>habitat_p</th>\n",
       "      <th>habitat_u</th>\n",
       "      <th>habitat_w</th>\n",
       "      <th>class</th>\n",
       "      <th>bruises</th>\n",
       "      <th>gill-attachment</th>\n",
       "      <th>gill-spacing</th>\n",
       "      <th>gill-size</th>\n",
       "      <th>stalk-shape</th>\n",
       "    </tr>\n",
       "  </thead>\n",
       "  <tbody>\n",
       "    <tr>\n",
       "      <th>count</th>\n",
       "      <td>8124.000000</td>\n",
       "      <td>8124.000000</td>\n",
       "      <td>8124.000000</td>\n",
       "      <td>8124.000000</td>\n",
       "      <td>8124.000000</td>\n",
       "      <td>8124.000000</td>\n",
       "      <td>8124.000000</td>\n",
       "      <td>8124.000000</td>\n",
       "      <td>8124.000000</td>\n",
       "      <td>8124.000000</td>\n",
       "      <td>...</td>\n",
       "      <td>8124.000000</td>\n",
       "      <td>8124.000000</td>\n",
       "      <td>8124.000000</td>\n",
       "      <td>8124.000000</td>\n",
       "      <td>8124.000000</td>\n",
       "      <td>8124.000000</td>\n",
       "      <td>8124.000000</td>\n",
       "      <td>8124.000000</td>\n",
       "      <td>8124.000000</td>\n",
       "      <td>8124.000000</td>\n",
       "    </tr>\n",
       "    <tr>\n",
       "      <th>mean</th>\n",
       "      <td>0.055638</td>\n",
       "      <td>0.000492</td>\n",
       "      <td>0.387986</td>\n",
       "      <td>0.101920</td>\n",
       "      <td>0.003939</td>\n",
       "      <td>0.450025</td>\n",
       "      <td>0.285574</td>\n",
       "      <td>0.000492</td>\n",
       "      <td>0.314623</td>\n",
       "      <td>0.399311</td>\n",
       "      <td>...</td>\n",
       "      <td>0.035943</td>\n",
       "      <td>0.140817</td>\n",
       "      <td>0.045298</td>\n",
       "      <td>0.023634</td>\n",
       "      <td>0.517971</td>\n",
       "      <td>0.584441</td>\n",
       "      <td>0.025849</td>\n",
       "      <td>0.161497</td>\n",
       "      <td>0.690793</td>\n",
       "      <td>0.567208</td>\n",
       "    </tr>\n",
       "    <tr>\n",
       "      <th>std</th>\n",
       "      <td>0.229235</td>\n",
       "      <td>0.022185</td>\n",
       "      <td>0.487321</td>\n",
       "      <td>0.302562</td>\n",
       "      <td>0.062641</td>\n",
       "      <td>0.497527</td>\n",
       "      <td>0.451715</td>\n",
       "      <td>0.022185</td>\n",
       "      <td>0.464394</td>\n",
       "      <td>0.489787</td>\n",
       "      <td>...</td>\n",
       "      <td>0.186159</td>\n",
       "      <td>0.347854</td>\n",
       "      <td>0.207969</td>\n",
       "      <td>0.151914</td>\n",
       "      <td>0.499708</td>\n",
       "      <td>0.492848</td>\n",
       "      <td>0.158695</td>\n",
       "      <td>0.368011</td>\n",
       "      <td>0.462195</td>\n",
       "      <td>0.495493</td>\n",
       "    </tr>\n",
       "    <tr>\n",
       "      <th>min</th>\n",
       "      <td>0.000000</td>\n",
       "      <td>0.000000</td>\n",
       "      <td>0.000000</td>\n",
       "      <td>0.000000</td>\n",
       "      <td>0.000000</td>\n",
       "      <td>0.000000</td>\n",
       "      <td>0.000000</td>\n",
       "      <td>0.000000</td>\n",
       "      <td>0.000000</td>\n",
       "      <td>0.000000</td>\n",
       "      <td>...</td>\n",
       "      <td>0.000000</td>\n",
       "      <td>0.000000</td>\n",
       "      <td>0.000000</td>\n",
       "      <td>0.000000</td>\n",
       "      <td>0.000000</td>\n",
       "      <td>0.000000</td>\n",
       "      <td>0.000000</td>\n",
       "      <td>0.000000</td>\n",
       "      <td>0.000000</td>\n",
       "      <td>0.000000</td>\n",
       "    </tr>\n",
       "    <tr>\n",
       "      <th>25%</th>\n",
       "      <td>0.000000</td>\n",
       "      <td>0.000000</td>\n",
       "      <td>0.000000</td>\n",
       "      <td>0.000000</td>\n",
       "      <td>0.000000</td>\n",
       "      <td>0.000000</td>\n",
       "      <td>0.000000</td>\n",
       "      <td>0.000000</td>\n",
       "      <td>0.000000</td>\n",
       "      <td>0.000000</td>\n",
       "      <td>...</td>\n",
       "      <td>0.000000</td>\n",
       "      <td>0.000000</td>\n",
       "      <td>0.000000</td>\n",
       "      <td>0.000000</td>\n",
       "      <td>0.000000</td>\n",
       "      <td>0.000000</td>\n",
       "      <td>0.000000</td>\n",
       "      <td>0.000000</td>\n",
       "      <td>0.000000</td>\n",
       "      <td>0.000000</td>\n",
       "    </tr>\n",
       "    <tr>\n",
       "      <th>50%</th>\n",
       "      <td>0.000000</td>\n",
       "      <td>0.000000</td>\n",
       "      <td>0.000000</td>\n",
       "      <td>0.000000</td>\n",
       "      <td>0.000000</td>\n",
       "      <td>0.000000</td>\n",
       "      <td>0.000000</td>\n",
       "      <td>0.000000</td>\n",
       "      <td>0.000000</td>\n",
       "      <td>0.000000</td>\n",
       "      <td>...</td>\n",
       "      <td>0.000000</td>\n",
       "      <td>0.000000</td>\n",
       "      <td>0.000000</td>\n",
       "      <td>0.000000</td>\n",
       "      <td>1.000000</td>\n",
       "      <td>1.000000</td>\n",
       "      <td>0.000000</td>\n",
       "      <td>0.000000</td>\n",
       "      <td>1.000000</td>\n",
       "      <td>1.000000</td>\n",
       "    </tr>\n",
       "    <tr>\n",
       "      <th>75%</th>\n",
       "      <td>0.000000</td>\n",
       "      <td>0.000000</td>\n",
       "      <td>1.000000</td>\n",
       "      <td>0.000000</td>\n",
       "      <td>0.000000</td>\n",
       "      <td>1.000000</td>\n",
       "      <td>1.000000</td>\n",
       "      <td>0.000000</td>\n",
       "      <td>1.000000</td>\n",
       "      <td>1.000000</td>\n",
       "      <td>...</td>\n",
       "      <td>0.000000</td>\n",
       "      <td>0.000000</td>\n",
       "      <td>0.000000</td>\n",
       "      <td>0.000000</td>\n",
       "      <td>1.000000</td>\n",
       "      <td>1.000000</td>\n",
       "      <td>0.000000</td>\n",
       "      <td>0.000000</td>\n",
       "      <td>1.000000</td>\n",
       "      <td>1.000000</td>\n",
       "    </tr>\n",
       "    <tr>\n",
       "      <th>max</th>\n",
       "      <td>1.000000</td>\n",
       "      <td>1.000000</td>\n",
       "      <td>1.000000</td>\n",
       "      <td>1.000000</td>\n",
       "      <td>1.000000</td>\n",
       "      <td>1.000000</td>\n",
       "      <td>1.000000</td>\n",
       "      <td>1.000000</td>\n",
       "      <td>1.000000</td>\n",
       "      <td>1.000000</td>\n",
       "      <td>...</td>\n",
       "      <td>1.000000</td>\n",
       "      <td>1.000000</td>\n",
       "      <td>1.000000</td>\n",
       "      <td>1.000000</td>\n",
       "      <td>1.000000</td>\n",
       "      <td>1.000000</td>\n",
       "      <td>1.000000</td>\n",
       "      <td>1.000000</td>\n",
       "      <td>1.000000</td>\n",
       "      <td>1.000000</td>\n",
       "    </tr>\n",
       "  </tbody>\n",
       "</table>\n",
       "<p>8 rows × 112 columns</p>\n",
       "</div>"
      ],
      "text/plain": [
       "       cap-shape_b  cap-shape_c  cap-shape_f  cap-shape_k  cap-shape_s  \\\n",
       "count  8124.000000  8124.000000  8124.000000  8124.000000  8124.000000   \n",
       "mean      0.055638     0.000492     0.387986     0.101920     0.003939   \n",
       "std       0.229235     0.022185     0.487321     0.302562     0.062641   \n",
       "min       0.000000     0.000000     0.000000     0.000000     0.000000   \n",
       "25%       0.000000     0.000000     0.000000     0.000000     0.000000   \n",
       "50%       0.000000     0.000000     0.000000     0.000000     0.000000   \n",
       "75%       0.000000     0.000000     1.000000     0.000000     0.000000   \n",
       "max       1.000000     1.000000     1.000000     1.000000     1.000000   \n",
       "\n",
       "       cap-shape_x  cap-surface_f  cap-surface_g  cap-surface_s  \\\n",
       "count  8124.000000    8124.000000    8124.000000    8124.000000   \n",
       "mean      0.450025       0.285574       0.000492       0.314623   \n",
       "std       0.497527       0.451715       0.022185       0.464394   \n",
       "min       0.000000       0.000000       0.000000       0.000000   \n",
       "25%       0.000000       0.000000       0.000000       0.000000   \n",
       "50%       0.000000       0.000000       0.000000       0.000000   \n",
       "75%       1.000000       1.000000       0.000000       1.000000   \n",
       "max       1.000000       1.000000       1.000000       1.000000   \n",
       "\n",
       "       cap-surface_y  ...    habitat_m    habitat_p    habitat_u    habitat_w  \\\n",
       "count    8124.000000  ...  8124.000000  8124.000000  8124.000000  8124.000000   \n",
       "mean        0.399311  ...     0.035943     0.140817     0.045298     0.023634   \n",
       "std         0.489787  ...     0.186159     0.347854     0.207969     0.151914   \n",
       "min         0.000000  ...     0.000000     0.000000     0.000000     0.000000   \n",
       "25%         0.000000  ...     0.000000     0.000000     0.000000     0.000000   \n",
       "50%         0.000000  ...     0.000000     0.000000     0.000000     0.000000   \n",
       "75%         1.000000  ...     0.000000     0.000000     0.000000     0.000000   \n",
       "max         1.000000  ...     1.000000     1.000000     1.000000     1.000000   \n",
       "\n",
       "             class      bruises  gill-attachment  gill-spacing    gill-size  \\\n",
       "count  8124.000000  8124.000000      8124.000000   8124.000000  8124.000000   \n",
       "mean      0.517971     0.584441         0.025849      0.161497     0.690793   \n",
       "std       0.499708     0.492848         0.158695      0.368011     0.462195   \n",
       "min       0.000000     0.000000         0.000000      0.000000     0.000000   \n",
       "25%       0.000000     0.000000         0.000000      0.000000     0.000000   \n",
       "50%       1.000000     1.000000         0.000000      0.000000     1.000000   \n",
       "75%       1.000000     1.000000         0.000000      0.000000     1.000000   \n",
       "max       1.000000     1.000000         1.000000      1.000000     1.000000   \n",
       "\n",
       "       stalk-shape  \n",
       "count  8124.000000  \n",
       "mean      0.567208  \n",
       "std       0.495493  \n",
       "min       0.000000  \n",
       "25%       0.000000  \n",
       "50%       1.000000  \n",
       "75%       1.000000  \n",
       "max       1.000000  \n",
       "\n",
       "[8 rows x 112 columns]"
      ]
     },
     "execution_count": 116,
     "metadata": {},
     "output_type": "execute_result"
    }
   ],
   "source": [
    "data.describe()"
   ]
  },
  {
   "cell_type": "code",
   "execution_count": 73,
   "id": "cc3e519c",
   "metadata": {},
   "outputs": [
    {
     "data": {
      "text/html": [
       "<div>\n",
       "<style scoped>\n",
       "    .dataframe tbody tr th:only-of-type {\n",
       "        vertical-align: middle;\n",
       "    }\n",
       "\n",
       "    .dataframe tbody tr th {\n",
       "        vertical-align: top;\n",
       "    }\n",
       "\n",
       "    .dataframe thead th {\n",
       "        text-align: right;\n",
       "    }\n",
       "</style>\n",
       "<table border=\"1\" class=\"dataframe\">\n",
       "  <thead>\n",
       "    <tr style=\"text-align: right;\">\n",
       "      <th></th>\n",
       "      <th>cap-shape_b</th>\n",
       "      <th>cap-shape_c</th>\n",
       "      <th>cap-shape_f</th>\n",
       "      <th>cap-shape_k</th>\n",
       "      <th>cap-shape_s</th>\n",
       "      <th>cap-shape_x</th>\n",
       "      <th>cap-surface_f</th>\n",
       "      <th>cap-surface_g</th>\n",
       "      <th>cap-surface_s</th>\n",
       "      <th>cap-surface_y</th>\n",
       "      <th>...</th>\n",
       "      <th>habitat_m</th>\n",
       "      <th>habitat_p</th>\n",
       "      <th>habitat_u</th>\n",
       "      <th>habitat_w</th>\n",
       "      <th>class</th>\n",
       "      <th>bruises</th>\n",
       "      <th>gill-attachment</th>\n",
       "      <th>gill-spacing</th>\n",
       "      <th>gill-size</th>\n",
       "      <th>stalk-shape</th>\n",
       "    </tr>\n",
       "  </thead>\n",
       "  <tbody>\n",
       "    <tr>\n",
       "      <th>cap-shape_b</th>\n",
       "      <td>1.000000</td>\n",
       "      <td>-0.005387</td>\n",
       "      <td>-0.193260</td>\n",
       "      <td>-0.081769</td>\n",
       "      <td>-0.015264</td>\n",
       "      <td>-0.219564</td>\n",
       "      <td>-0.091638</td>\n",
       "      <td>0.018820</td>\n",
       "      <td>0.117712</td>\n",
       "      <td>-0.027947</td>\n",
       "      <td>...</td>\n",
       "      <td>0.374316</td>\n",
       "      <td>-0.095178</td>\n",
       "      <td>-0.052871</td>\n",
       "      <td>-0.037764</td>\n",
       "      <td>0.182567</td>\n",
       "      <td>-0.115686</td>\n",
       "      <td>0.122896</td>\n",
       "      <td>0.039406</td>\n",
       "      <td>0.148449</td>\n",
       "      <td>-0.277873</td>\n",
       "    </tr>\n",
       "    <tr>\n",
       "      <th>cap-shape_c</th>\n",
       "      <td>-0.005387</td>\n",
       "      <td>1.000000</td>\n",
       "      <td>-0.017672</td>\n",
       "      <td>-0.007477</td>\n",
       "      <td>-0.001396</td>\n",
       "      <td>-0.020077</td>\n",
       "      <td>-0.014032</td>\n",
       "      <td>0.249631</td>\n",
       "      <td>-0.015038</td>\n",
       "      <td>0.015893</td>\n",
       "      <td>...</td>\n",
       "      <td>-0.004286</td>\n",
       "      <td>-0.008985</td>\n",
       "      <td>-0.004835</td>\n",
       "      <td>-0.003453</td>\n",
       "      <td>-0.023007</td>\n",
       "      <td>-0.003803</td>\n",
       "      <td>-0.003615</td>\n",
       "      <td>0.050573</td>\n",
       "      <td>-0.033174</td>\n",
       "      <td>-0.025409</td>\n",
       "    </tr>\n",
       "    <tr>\n",
       "      <th>cap-shape_f</th>\n",
       "      <td>-0.193260</td>\n",
       "      <td>-0.017672</td>\n",
       "      <td>1.000000</td>\n",
       "      <td>-0.268226</td>\n",
       "      <td>-0.050070</td>\n",
       "      <td>-0.720235</td>\n",
       "      <td>0.064801</td>\n",
       "      <td>-0.006285</td>\n",
       "      <td>-0.093397</td>\n",
       "      <td>0.029076</td>\n",
       "      <td>...</td>\n",
       "      <td>-0.129312</td>\n",
       "      <td>0.021891</td>\n",
       "      <td>0.030636</td>\n",
       "      <td>-0.017450</td>\n",
       "      <td>-0.018526</td>\n",
       "      <td>-0.045188</td>\n",
       "      <td>-0.043740</td>\n",
       "      <td>-0.039154</td>\n",
       "      <td>0.075766</td>\n",
       "      <td>0.116324</td>\n",
       "    </tr>\n",
       "    <tr>\n",
       "      <th>cap-shape_k</th>\n",
       "      <td>-0.081769</td>\n",
       "      <td>-0.007477</td>\n",
       "      <td>-0.268226</td>\n",
       "      <td>1.000000</td>\n",
       "      <td>-0.021185</td>\n",
       "      <td>-0.304733</td>\n",
       "      <td>-0.158942</td>\n",
       "      <td>0.010863</td>\n",
       "      <td>0.137988</td>\n",
       "      <td>0.015261</td>\n",
       "      <td>...</td>\n",
       "      <td>-0.065047</td>\n",
       "      <td>0.090538</td>\n",
       "      <td>-0.073380</td>\n",
       "      <td>0.119003</td>\n",
       "      <td>-0.163565</td>\n",
       "      <td>0.229578</td>\n",
       "      <td>0.083575</td>\n",
       "      <td>-0.019591</td>\n",
       "      <td>-0.306333</td>\n",
       "      <td>0.087332</td>\n",
       "    </tr>\n",
       "    <tr>\n",
       "      <th>cap-shape_s</th>\n",
       "      <td>-0.015264</td>\n",
       "      <td>-0.001396</td>\n",
       "      <td>-0.050070</td>\n",
       "      <td>-0.021185</td>\n",
       "      <td>1.000000</td>\n",
       "      <td>-0.056884</td>\n",
       "      <td>0.099464</td>\n",
       "      <td>-0.001396</td>\n",
       "      <td>-0.042607</td>\n",
       "      <td>-0.051272</td>\n",
       "      <td>...</td>\n",
       "      <td>-0.012142</td>\n",
       "      <td>-0.025458</td>\n",
       "      <td>0.288697</td>\n",
       "      <td>-0.009784</td>\n",
       "      <td>0.060664</td>\n",
       "      <td>0.053026</td>\n",
       "      <td>-0.010244</td>\n",
       "      <td>-0.027598</td>\n",
       "      <td>-0.093993</td>\n",
       "      <td>-0.071991</td>\n",
       "    </tr>\n",
       "    <tr>\n",
       "      <th>...</th>\n",
       "      <td>...</td>\n",
       "      <td>...</td>\n",
       "      <td>...</td>\n",
       "      <td>...</td>\n",
       "      <td>...</td>\n",
       "      <td>...</td>\n",
       "      <td>...</td>\n",
       "      <td>...</td>\n",
       "      <td>...</td>\n",
       "      <td>...</td>\n",
       "      <td>...</td>\n",
       "      <td>...</td>\n",
       "      <td>...</td>\n",
       "      <td>...</td>\n",
       "      <td>...</td>\n",
       "      <td>...</td>\n",
       "      <td>...</td>\n",
       "      <td>...</td>\n",
       "      <td>...</td>\n",
       "      <td>...</td>\n",
       "      <td>...</td>\n",
       "    </tr>\n",
       "    <tr>\n",
       "      <th>bruises</th>\n",
       "      <td>-0.115686</td>\n",
       "      <td>-0.003803</td>\n",
       "      <td>-0.045188</td>\n",
       "      <td>0.229578</td>\n",
       "      <td>0.053026</td>\n",
       "      <td>-0.048557</td>\n",
       "      <td>0.028808</td>\n",
       "      <td>-0.026321</td>\n",
       "      <td>0.104439</td>\n",
       "      <td>-0.124401</td>\n",
       "      <td>...</td>\n",
       "      <td>-0.228986</td>\n",
       "      <td>0.249460</td>\n",
       "      <td>-0.143017</td>\n",
       "      <td>-0.184507</td>\n",
       "      <td>-0.501530</td>\n",
       "      <td>1.000000</td>\n",
       "      <td>0.137359</td>\n",
       "      <td>0.299473</td>\n",
       "      <td>-0.369596</td>\n",
       "      <td>-0.099364</td>\n",
       "    </tr>\n",
       "    <tr>\n",
       "      <th>gill-attachment</th>\n",
       "      <td>0.122896</td>\n",
       "      <td>-0.003615</td>\n",
       "      <td>-0.043740</td>\n",
       "      <td>0.083575</td>\n",
       "      <td>-0.010244</td>\n",
       "      <td>-0.063156</td>\n",
       "      <td>-0.102989</td>\n",
       "      <td>-0.003615</td>\n",
       "      <td>0.210358</td>\n",
       "      <td>-0.104304</td>\n",
       "      <td>...</td>\n",
       "      <td>-0.031453</td>\n",
       "      <td>-0.065947</td>\n",
       "      <td>-0.035483</td>\n",
       "      <td>-0.025344</td>\n",
       "      <td>0.129200</td>\n",
       "      <td>0.137359</td>\n",
       "      <td>1.000000</td>\n",
       "      <td>-0.071489</td>\n",
       "      <td>0.108984</td>\n",
       "      <td>-0.186485</td>\n",
       "    </tr>\n",
       "    <tr>\n",
       "      <th>gill-spacing</th>\n",
       "      <td>0.039406</td>\n",
       "      <td>0.050573</td>\n",
       "      <td>-0.039154</td>\n",
       "      <td>-0.019591</td>\n",
       "      <td>-0.027598</td>\n",
       "      <td>0.033328</td>\n",
       "      <td>0.202414</td>\n",
       "      <td>0.050573</td>\n",
       "      <td>0.152145</td>\n",
       "      <td>-0.333229</td>\n",
       "      <td>...</td>\n",
       "      <td>-0.084739</td>\n",
       "      <td>-0.177670</td>\n",
       "      <td>-0.095595</td>\n",
       "      <td>-0.068279</td>\n",
       "      <td>0.348387</td>\n",
       "      <td>0.299473</td>\n",
       "      <td>-0.071489</td>\n",
       "      <td>1.000000</td>\n",
       "      <td>0.108333</td>\n",
       "      <td>0.080895</td>\n",
       "    </tr>\n",
       "    <tr>\n",
       "      <th>gill-size</th>\n",
       "      <td>0.148449</td>\n",
       "      <td>-0.033174</td>\n",
       "      <td>0.075766</td>\n",
       "      <td>-0.306333</td>\n",
       "      <td>-0.093993</td>\n",
       "      <td>0.056995</td>\n",
       "      <td>0.257889</td>\n",
       "      <td>-0.033174</td>\n",
       "      <td>-0.198257</td>\n",
       "      <td>-0.048362</td>\n",
       "      <td>...</td>\n",
       "      <td>0.129183</td>\n",
       "      <td>-0.170190</td>\n",
       "      <td>-0.141152</td>\n",
       "      <td>0.104090</td>\n",
       "      <td>0.540024</td>\n",
       "      <td>-0.369596</td>\n",
       "      <td>0.108984</td>\n",
       "      <td>0.108333</td>\n",
       "      <td>1.000000</td>\n",
       "      <td>-0.214576</td>\n",
       "    </tr>\n",
       "    <tr>\n",
       "      <th>stalk-shape</th>\n",
       "      <td>-0.277873</td>\n",
       "      <td>-0.025409</td>\n",
       "      <td>0.116324</td>\n",
       "      <td>0.087332</td>\n",
       "      <td>-0.071991</td>\n",
       "      <td>-0.028821</td>\n",
       "      <td>-0.010958</td>\n",
       "      <td>-0.025409</td>\n",
       "      <td>0.071806</td>\n",
       "      <td>-0.056826</td>\n",
       "      <td>...</td>\n",
       "      <td>-0.221048</td>\n",
       "      <td>-0.052059</td>\n",
       "      <td>-0.077334</td>\n",
       "      <td>-0.178111</td>\n",
       "      <td>0.102019</td>\n",
       "      <td>-0.099364</td>\n",
       "      <td>-0.186485</td>\n",
       "      <td>0.080895</td>\n",
       "      <td>-0.214576</td>\n",
       "      <td>1.000000</td>\n",
       "    </tr>\n",
       "  </tbody>\n",
       "</table>\n",
       "<p>112 rows × 112 columns</p>\n",
       "</div>"
      ],
      "text/plain": [
       "                 cap-shape_b  cap-shape_c  cap-shape_f  cap-shape_k  \\\n",
       "cap-shape_b         1.000000    -0.005387    -0.193260    -0.081769   \n",
       "cap-shape_c        -0.005387     1.000000    -0.017672    -0.007477   \n",
       "cap-shape_f        -0.193260    -0.017672     1.000000    -0.268226   \n",
       "cap-shape_k        -0.081769    -0.007477    -0.268226     1.000000   \n",
       "cap-shape_s        -0.015264    -0.001396    -0.050070    -0.021185   \n",
       "...                      ...          ...          ...          ...   \n",
       "bruises            -0.115686    -0.003803    -0.045188     0.229578   \n",
       "gill-attachment     0.122896    -0.003615    -0.043740     0.083575   \n",
       "gill-spacing        0.039406     0.050573    -0.039154    -0.019591   \n",
       "gill-size           0.148449    -0.033174     0.075766    -0.306333   \n",
       "stalk-shape        -0.277873    -0.025409     0.116324     0.087332   \n",
       "\n",
       "                 cap-shape_s  cap-shape_x  cap-surface_f  cap-surface_g  \\\n",
       "cap-shape_b        -0.015264    -0.219564      -0.091638       0.018820   \n",
       "cap-shape_c        -0.001396    -0.020077      -0.014032       0.249631   \n",
       "cap-shape_f        -0.050070    -0.720235       0.064801      -0.006285   \n",
       "cap-shape_k        -0.021185    -0.304733      -0.158942       0.010863   \n",
       "cap-shape_s         1.000000    -0.056884       0.099464      -0.001396   \n",
       "...                      ...          ...            ...            ...   \n",
       "bruises             0.053026    -0.048557       0.028808      -0.026321   \n",
       "gill-attachment    -0.010244    -0.063156      -0.102989      -0.003615   \n",
       "gill-spacing       -0.027598     0.033328       0.202414       0.050573   \n",
       "gill-size          -0.093993     0.056995       0.257889      -0.033174   \n",
       "stalk-shape        -0.071991    -0.028821      -0.010958      -0.025409   \n",
       "\n",
       "                 cap-surface_s  cap-surface_y  ...  habitat_m  habitat_p  \\\n",
       "cap-shape_b           0.117712      -0.027947  ...   0.374316  -0.095178   \n",
       "cap-shape_c          -0.015038       0.015893  ...  -0.004286  -0.008985   \n",
       "cap-shape_f          -0.093397       0.029076  ...  -0.129312   0.021891   \n",
       "cap-shape_k           0.137988       0.015261  ...  -0.065047   0.090538   \n",
       "cap-shape_s          -0.042607      -0.051272  ...  -0.012142  -0.025458   \n",
       "...                        ...            ...  ...        ...        ...   \n",
       "bruises               0.104439      -0.124401  ...  -0.228986   0.249460   \n",
       "gill-attachment       0.210358      -0.104304  ...  -0.031453  -0.065947   \n",
       "gill-spacing          0.152145      -0.333229  ...  -0.084739  -0.177670   \n",
       "gill-size            -0.198257      -0.048362  ...   0.129183  -0.170190   \n",
       "stalk-shape           0.071806      -0.056826  ...  -0.221048  -0.052059   \n",
       "\n",
       "                 habitat_u  habitat_w     class   bruises  gill-attachment  \\\n",
       "cap-shape_b      -0.052871  -0.037764  0.182567 -0.115686         0.122896   \n",
       "cap-shape_c      -0.004835  -0.003453 -0.023007 -0.003803        -0.003615   \n",
       "cap-shape_f       0.030636  -0.017450 -0.018526 -0.045188        -0.043740   \n",
       "cap-shape_k      -0.073380   0.119003 -0.163565  0.229578         0.083575   \n",
       "cap-shape_s       0.288697  -0.009784  0.060664  0.053026        -0.010244   \n",
       "...                    ...        ...       ...       ...              ...   \n",
       "bruises          -0.143017  -0.184507 -0.501530  1.000000         0.137359   \n",
       "gill-attachment  -0.035483  -0.025344  0.129200  0.137359         1.000000   \n",
       "gill-spacing     -0.095595  -0.068279  0.348387  0.299473        -0.071489   \n",
       "gill-size        -0.141152   0.104090  0.540024 -0.369596         0.108984   \n",
       "stalk-shape      -0.077334  -0.178111  0.102019 -0.099364        -0.186485   \n",
       "\n",
       "                 gill-spacing  gill-size  stalk-shape  \n",
       "cap-shape_b          0.039406   0.148449    -0.277873  \n",
       "cap-shape_c          0.050573  -0.033174    -0.025409  \n",
       "cap-shape_f         -0.039154   0.075766     0.116324  \n",
       "cap-shape_k         -0.019591  -0.306333     0.087332  \n",
       "cap-shape_s         -0.027598  -0.093993    -0.071991  \n",
       "...                       ...        ...          ...  \n",
       "bruises              0.299473  -0.369596    -0.099364  \n",
       "gill-attachment     -0.071489   0.108984    -0.186485  \n",
       "gill-spacing         1.000000   0.108333     0.080895  \n",
       "gill-size            0.108333   1.000000    -0.214576  \n",
       "stalk-shape          0.080895  -0.214576     1.000000  \n",
       "\n",
       "[112 rows x 112 columns]"
      ]
     },
     "execution_count": 73,
     "metadata": {},
     "output_type": "execute_result"
    }
   ],
   "source": [
    "corr_mat = data.corr()\n",
    "corr_mat"
   ]
  },
  {
   "cell_type": "code",
   "execution_count": 74,
   "id": "ea63ef04",
   "metadata": {},
   "outputs": [
    {
     "data": {
      "image/png": "[encoded data removed]",
      "text/plain": [
       "<Figure size 432x288 with 2 Axes>"
      ]
     },
     "metadata": {
      "needs_background": "light"
     },
     "output_type": "display_data"
    }
   ],
   "source": [
    "sns.heatmap(corr_mat, square=True, vmin=-1, vmax=1, cmap='coolwarm')\n",
    "pass"
   ]
  },
  {
   "cell_type": "code",
   "execution_count": 75,
   "id": "43011da5",
   "metadata": {},
   "outputs": [
    {
     "data": {
      "text/plain": [
       "stalk-color-above-ring_c  ring-number_n               1.000000\n",
       "odor_m                    stalk-color-below-ring_c    1.000000\n",
       "stalk-color-below-ring_c  ring-number_n               1.000000\n",
       "stalk-color-above-ring_y  veil-color_y                1.000000\n",
       "stalk-color-above-ring_c  stalk-color-below-ring_c    1.000000\n",
       "                                                        ...   \n",
       "odor_a                    stalk-root_c                0.515126\n",
       "stalk-root_b              spore-print-color_h         0.508455\n",
       "population_a              gill-spacing                0.507534\n",
       "ring-type_e               bruises                     0.506406\n",
       "stalk-root_b              habitat_d                   0.502949\n",
       "Length: 82, dtype: float64"
      ]
     },
     "execution_count": 75,
     "metadata": {},
     "output_type": "execute_result"
    }
   ],
   "source": [
    "corr_mat.where(np.triu(corr_mat > 0.5, k=1)).stack().sort_values(ascending=False)"
   ]
  },
  {
   "cell_type": "code",
   "execution_count": 77,
   "id": "843c38a0",
   "metadata": {},
   "outputs": [
    {
     "data": {
      "text/plain": [
       "stalk-color-above-ring_c  ring-number_n               1.000000\n",
       "odor_m                    stalk-color-below-ring_c    1.000000\n",
       "stalk-color-below-ring_c  ring-number_n               1.000000\n",
       "stalk-color-above-ring_y  veil-color_y                1.000000\n",
       "stalk-color-above-ring_c  stalk-color-below-ring_c    1.000000\n",
       "                                                        ...   \n",
       "odor_a                    stalk-root_c                0.515126\n",
       "stalk-root_b              spore-print-color_h         0.508455\n",
       "population_a              gill-spacing                0.507534\n",
       "ring-type_e               bruises                     0.506406\n",
       "stalk-root_b              habitat_d                   0.502949\n",
       "Length: 82, dtype: float64"
      ]
     },
     "execution_count": 77,
     "metadata": {},
     "output_type": "execute_result"
    }
   ],
   "source": [
    "tab_cor = corr_mat.where(np.triu(corr_mat > 0.5, k=1)).stack().sort_values(ascending=False)\n",
    "tab_cor"
   ]
  },
  {
   "cell_type": "code",
   "execution_count": 79,
   "id": "293405a8",
   "metadata": {},
   "outputs": [
    {
     "data": {
      "text/plain": [
       "stalk-color-above-ring_c  ring-number_n               1.000000\n",
       "odor_m                    stalk-color-below-ring_c    1.000000\n",
       "stalk-color-below-ring_c  ring-number_n               1.000000\n",
       "stalk-color-above-ring_y  veil-color_y                1.000000\n",
       "stalk-color-above-ring_c  stalk-color-below-ring_c    1.000000\n",
       "stalk-color-below-ring_c  ring-type_n                 1.000000\n",
       "stalk-color-above-ring_o  stalk-color-below-ring_o    1.000000\n",
       "odor_m                    ring-type_n                 1.000000\n",
       "                          ring-number_n               1.000000\n",
       "ring-number_n             ring-type_n                 1.000000\n",
       "odor_m                    stalk-color-above-ring_c    1.000000\n",
       "stalk-color-above-ring_c  ring-type_n                 1.000000\n",
       "stalk-color-above-ring_o  gill-attachment             0.955097\n",
       "stalk-color-below-ring_o  gill-attachment             0.955097\n",
       "stalk-root_?              spore-print-color_w         0.886541\n",
       "dtype: float64"
      ]
     },
     "execution_count": 79,
     "metadata": {},
     "output_type": "execute_result"
    }
   ],
   "source": [
    "tab_cor.head(15)"
   ]
  },
  {
   "cell_type": "code",
   "execution_count": null,
   "id": "3e739d36",
   "metadata": {},
   "outputs": [],
   "source": []
  }
 ],
 "metadata": {
  "kernelspec": {
   "display_name": "Python 3",
   "language": "python",
   "name": "python3"
  },
  "language_info": {
   "codemirror_mode": {
    "name": "ipython",
    "version": 3
   },
   "file_extension": ".py",
   "mimetype": "text/x-python",
   "name": "python",
   "nbconvert_exporter": "python",
   "pygments_lexer": "ipython3",
   "version": "3.8.8"
  }
 },
 "nbformat": 4,
 "nbformat_minor": 5
}
